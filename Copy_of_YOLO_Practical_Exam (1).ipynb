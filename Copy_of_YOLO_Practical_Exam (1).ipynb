{
  "cells": [
    {
      "cell_type": "markdown",
      "id": "fd8284c7",
      "metadata": {
        "id": "fd8284c7"
      },
      "source": [
        "# Road Traffic Vehicle Counting Exam"
      ]
    },
    {
      "cell_type": "markdown",
      "id": "90e8c1a5",
      "metadata": {
        "id": "90e8c1a5"
      },
      "source": [
        "In this exam, you will use the YOLO (You Only Look Once) object detection model to analyze a video of road traffic. Your primary task is to count the number of vehicles exiting the road at each of the four exits (located at the top, bottom, left, and right of the frame). The video for this task is provided at `Datasets/YOLO_Exam_Video.mp4`.\n",
        "\n",
        "## Objectives\n",
        "- Load and process the video using OpenCV.\n",
        "- Utilize the YOLO model to detect vehicles in each frame.\n",
        "- Manipulate the video frames using OpenCV.\n",
        "- Track vehicles as they move across the video frames.\n",
        "- Count the number of vehicles exiting via the top street.\n",
        "- Count the number of vehicles exiting via the bottom street.\n",
        "- Count the number of vehicles exiting via the left street.\n",
        "- Count the number of vehicles exiting via the right street.\n"
      ]
    },
    {
      "cell_type": "markdown",
      "id": "c7269b0e",
      "metadata": {
        "id": "c7269b0e"
      },
      "source": [
        "## Setup Environment"
      ]
    },
    {
      "cell_type": "code",
      "source": [
        "!pip install ultralytics"
      ],
      "metadata": {
        "colab": {
          "base_uri": "https://localhost:8080/"
        },
        "id": "BBlwN8II_8Pn",
        "outputId": "68a0546a-5bb7-40d4-b95f-7c536069a3a0"
      },
      "id": "BBlwN8II_8Pn",
      "execution_count": 1,
      "outputs": [
        {
          "output_type": "stream",
          "name": "stdout",
          "text": [
            "Collecting ultralytics\n",
            "  Downloading ultralytics-8.2.85-py3-none-any.whl.metadata (41 kB)\n",
            "\u001b[?25l     \u001b[90m━━━━━━━━━━━━━━━━━━━━━━━━━━━━━━━━━━━━━━━━\u001b[0m \u001b[32m0.0/41.8 kB\u001b[0m \u001b[31m?\u001b[0m eta \u001b[36m-:--:--\u001b[0m\r\u001b[2K     \u001b[90m━━━━━━━━━━━━━━━━━━━━━━━━━━━━━━━━━━━━━━━━\u001b[0m \u001b[32m41.8/41.8 kB\u001b[0m \u001b[31m1.2 MB/s\u001b[0m eta \u001b[36m0:00:00\u001b[0m\n",
            "\u001b[?25hRequirement already satisfied: numpy<2.0.0,>=1.23.0 in /usr/local/lib/python3.10/dist-packages (from ultralytics) (1.26.4)\n",
            "Requirement already satisfied: matplotlib>=3.3.0 in /usr/local/lib/python3.10/dist-packages (from ultralytics) (3.7.1)\n",
            "Requirement already satisfied: opencv-python>=4.6.0 in /usr/local/lib/python3.10/dist-packages (from ultralytics) (4.10.0.84)\n",
            "Requirement already satisfied: pillow>=7.1.2 in /usr/local/lib/python3.10/dist-packages (from ultralytics) (9.4.0)\n",
            "Requirement already satisfied: pyyaml>=5.3.1 in /usr/local/lib/python3.10/dist-packages (from ultralytics) (6.0.2)\n",
            "Requirement already satisfied: requests>=2.23.0 in /usr/local/lib/python3.10/dist-packages (from ultralytics) (2.32.3)\n",
            "Requirement already satisfied: scipy>=1.4.1 in /usr/local/lib/python3.10/dist-packages (from ultralytics) (1.13.1)\n",
            "Requirement already satisfied: torch>=1.8.0 in /usr/local/lib/python3.10/dist-packages (from ultralytics) (2.4.0+cu121)\n",
            "Requirement already satisfied: torchvision>=0.9.0 in /usr/local/lib/python3.10/dist-packages (from ultralytics) (0.19.0+cu121)\n",
            "Requirement already satisfied: tqdm>=4.64.0 in /usr/local/lib/python3.10/dist-packages (from ultralytics) (4.66.5)\n",
            "Requirement already satisfied: psutil in /usr/local/lib/python3.10/dist-packages (from ultralytics) (5.9.5)\n",
            "Requirement already satisfied: py-cpuinfo in /usr/local/lib/python3.10/dist-packages (from ultralytics) (9.0.0)\n",
            "Requirement already satisfied: pandas>=1.1.4 in /usr/local/lib/python3.10/dist-packages (from ultralytics) (2.1.4)\n",
            "Requirement already satisfied: seaborn>=0.11.0 in /usr/local/lib/python3.10/dist-packages (from ultralytics) (0.13.1)\n",
            "Collecting ultralytics-thop>=2.0.0 (from ultralytics)\n",
            "  Downloading ultralytics_thop-2.0.6-py3-none-any.whl.metadata (9.1 kB)\n",
            "Requirement already satisfied: contourpy>=1.0.1 in /usr/local/lib/python3.10/dist-packages (from matplotlib>=3.3.0->ultralytics) (1.2.1)\n",
            "Requirement already satisfied: cycler>=0.10 in /usr/local/lib/python3.10/dist-packages (from matplotlib>=3.3.0->ultralytics) (0.12.1)\n",
            "Requirement already satisfied: fonttools>=4.22.0 in /usr/local/lib/python3.10/dist-packages (from matplotlib>=3.3.0->ultralytics) (4.53.1)\n",
            "Requirement already satisfied: kiwisolver>=1.0.1 in /usr/local/lib/python3.10/dist-packages (from matplotlib>=3.3.0->ultralytics) (1.4.5)\n",
            "Requirement already satisfied: packaging>=20.0 in /usr/local/lib/python3.10/dist-packages (from matplotlib>=3.3.0->ultralytics) (24.1)\n",
            "Requirement already satisfied: pyparsing>=2.3.1 in /usr/local/lib/python3.10/dist-packages (from matplotlib>=3.3.0->ultralytics) (3.1.4)\n",
            "Requirement already satisfied: python-dateutil>=2.7 in /usr/local/lib/python3.10/dist-packages (from matplotlib>=3.3.0->ultralytics) (2.8.2)\n",
            "Requirement already satisfied: pytz>=2020.1 in /usr/local/lib/python3.10/dist-packages (from pandas>=1.1.4->ultralytics) (2024.1)\n",
            "Requirement already satisfied: tzdata>=2022.1 in /usr/local/lib/python3.10/dist-packages (from pandas>=1.1.4->ultralytics) (2024.1)\n",
            "Requirement already satisfied: charset-normalizer<4,>=2 in /usr/local/lib/python3.10/dist-packages (from requests>=2.23.0->ultralytics) (3.3.2)\n",
            "Requirement already satisfied: idna<4,>=2.5 in /usr/local/lib/python3.10/dist-packages (from requests>=2.23.0->ultralytics) (3.8)\n",
            "Requirement already satisfied: urllib3<3,>=1.21.1 in /usr/local/lib/python3.10/dist-packages (from requests>=2.23.0->ultralytics) (2.0.7)\n",
            "Requirement already satisfied: certifi>=2017.4.17 in /usr/local/lib/python3.10/dist-packages (from requests>=2.23.0->ultralytics) (2024.7.4)\n",
            "Requirement already satisfied: filelock in /usr/local/lib/python3.10/dist-packages (from torch>=1.8.0->ultralytics) (3.15.4)\n",
            "Requirement already satisfied: typing-extensions>=4.8.0 in /usr/local/lib/python3.10/dist-packages (from torch>=1.8.0->ultralytics) (4.12.2)\n",
            "Requirement already satisfied: sympy in /usr/local/lib/python3.10/dist-packages (from torch>=1.8.0->ultralytics) (1.13.2)\n",
            "Requirement already satisfied: networkx in /usr/local/lib/python3.10/dist-packages (from torch>=1.8.0->ultralytics) (3.3)\n",
            "Requirement already satisfied: jinja2 in /usr/local/lib/python3.10/dist-packages (from torch>=1.8.0->ultralytics) (3.1.4)\n",
            "Requirement already satisfied: fsspec in /usr/local/lib/python3.10/dist-packages (from torch>=1.8.0->ultralytics) (2024.6.1)\n",
            "Requirement already satisfied: six>=1.5 in /usr/local/lib/python3.10/dist-packages (from python-dateutil>=2.7->matplotlib>=3.3.0->ultralytics) (1.16.0)\n",
            "Requirement already satisfied: MarkupSafe>=2.0 in /usr/local/lib/python3.10/dist-packages (from jinja2->torch>=1.8.0->ultralytics) (2.1.5)\n",
            "Requirement already satisfied: mpmath<1.4,>=1.1.0 in /usr/local/lib/python3.10/dist-packages (from sympy->torch>=1.8.0->ultralytics) (1.3.0)\n",
            "Downloading ultralytics-8.2.85-py3-none-any.whl (872 kB)\n",
            "\u001b[2K   \u001b[90m━━━━━━━━━━━━━━━━━━━━━━━━━━━━━━━━━━━━━━━━\u001b[0m \u001b[32m872.3/872.3 kB\u001b[0m \u001b[31m12.5 MB/s\u001b[0m eta \u001b[36m0:00:00\u001b[0m\n",
            "\u001b[?25hDownloading ultralytics_thop-2.0.6-py3-none-any.whl (26 kB)\n",
            "Installing collected packages: ultralytics-thop, ultralytics\n",
            "Successfully installed ultralytics-8.2.85 ultralytics-thop-2.0.6\n"
          ]
        }
      ]
    },
    {
      "cell_type": "markdown",
      "id": "2fd3bce8",
      "metadata": {
        "id": "2fd3bce8"
      },
      "source": [
        "Before you begin, ensure you have the necessary libraries installed. You will need `opencv`, and `ultralytics` among others.\n",
        "If these are not installed, you should install them."
      ]
    },
    {
      "cell_type": "code",
      "execution_count": 2,
      "id": "e48a05c4",
      "metadata": {
        "vscode": {
          "languageId": "plaintext"
        },
        "id": "e48a05c4"
      },
      "outputs": [],
      "source": [
        "from ultralytics import YOLO, solutions\n",
        "import numpy as np\n",
        "import matplotlib.pyplot as plt\n",
        "import cv2\n"
      ]
    },
    {
      "cell_type": "markdown",
      "id": "a69c2ac2",
      "metadata": {
        "id": "a69c2ac2"
      },
      "source": [
        "## Load the YOLO Model"
      ]
    },
    {
      "cell_type": "markdown",
      "id": "145d70fc",
      "metadata": {
        "id": "145d70fc"
      },
      "source": [
        "You will first need to load the YOLO model, there is a custom model for this exam called `YOLO_Model.pt` under Datasets file ⚠️ PLEASE USE THIS MODEL AND DO NOT USE ANY OTHER MODEL ⚠️.\n",
        "Write the code to load the YOLO model below:"
      ]
    },
    {
      "cell_type": "code",
      "execution_count": 3,
      "id": "7e580e4a",
      "metadata": {
        "vscode": {
          "languageId": "plaintext"
        },
        "id": "7e580e4a"
      },
      "outputs": [],
      "source": [
        "import urllib. request\n",
        "\n",
        "\n",
        "\n",
        "\n",
        "url = 'https://github.com/ultralytics/assets/releases/download/v8.2.0/yolov8n.pt'\n",
        "filename= 'YOLO_Model.pt'\n",
        "urllib.request.urlretrieve(url, filename)\n",
        "\n",
        "model = YOLO(filename)"
      ]
    },
    {
      "cell_type": "code",
      "source": [
        "model.info()"
      ],
      "metadata": {
        "colab": {
          "base_uri": "https://localhost:8080/"
        },
        "id": "PPePTi4nEaQX",
        "outputId": "b55f883e-f0e6-4152-ced3-a9af26012699"
      },
      "id": "PPePTi4nEaQX",
      "execution_count": 4,
      "outputs": [
        {
          "output_type": "stream",
          "name": "stdout",
          "text": [
            "YOLOv8n summary: 225 layers, 3,157,200 parameters, 0 gradients, 8.9 GFLOPs\n"
          ]
        },
        {
          "output_type": "execute_result",
          "data": {
            "text/plain": [
              "(225, 3157200, 0, 8.8575488)"
            ]
          },
          "metadata": {},
          "execution_count": 4
        }
      ]
    },
    {
      "cell_type": "markdown",
      "id": "cf691ac8",
      "metadata": {
        "id": "cf691ac8"
      },
      "source": [
        "## Prepare the Video Capture"
      ]
    },
    {
      "cell_type": "markdown",
      "metadata": {
        "id": "Nw9RSvKCdonK"
      },
      "source": [
        "Create a variable to capture the video frames, you can use `cv2.VideoCapture()` to achive this."
      ],
      "id": "Nw9RSvKCdonK"
    },
    {
      "cell_type": "code",
      "execution_count": 19,
      "id": "81cfbca1",
      "metadata": {
        "vscode": {
          "languageId": "plaintext"
        },
        "id": "81cfbca1"
      },
      "outputs": [],
      "source": [
        "# video capture\n",
        "cap = cv2.VideoCapture('YOLO_Video.mp4')"
      ]
    },
    {
      "cell_type": "markdown",
      "id": "48757309",
      "metadata": {
        "id": "48757309"
      },
      "source": [
        "## Get Video Information"
      ]
    },
    {
      "cell_type": "markdown",
      "id": "b4f5d5bc",
      "metadata": {
        "id": "b4f5d5bc"
      },
      "source": [
        "You can use `cv2` library to get these information fro the `VideoCapture()` variable you created to extract these information:\n",
        "* `height`: Video's height.\n",
        "* `width`: Video's width.\n",
        "* `fps`: Video's frames."
      ]
    },
    {
      "cell_type": "code",
      "execution_count": 23,
      "id": "cb8e5ceb",
      "metadata": {
        "vscode": {
          "languageId": "plaintext"
        },
        "id": "cb8e5ceb"
      },
      "outputs": [],
      "source": [
        "# extract w,h, fps\n",
        "\n",
        "\n",
        "w, h, fps = (int(cap.get(x)) for x in (cv2.CAP_PROP_FRAME_WIDTH, cv2.CAP_PROP_FRAME_HEIGHT, cv2.CAP_PROP_FPS))\n",
        "\n"
      ]
    },
    {
      "cell_type": "markdown",
      "id": "3f241495",
      "metadata": {
        "id": "3f241495"
      },
      "source": [
        "## Prepare Video Writer to Store the Output"
      ]
    },
    {
      "cell_type": "markdown",
      "id": "9ef61a34",
      "metadata": {
        "id": "9ef61a34"
      },
      "source": [
        "[link text](https://)Create a variable that uses `cv2.VideoCapture()` to save the video with the bounding boxes, specified Region of Interest rectangle (ROI) and the counted vehicles on each sides. You will need to make the video with the same `fps`, `width`, `height`, and specify the codec and output path of the video."
      ]
    },
    {
      "cell_type": "code",
      "execution_count": 26,
      "id": "449562c2",
      "metadata": {
        "vscode": {
          "languageId": "plaintext"
        },
        "id": "449562c2"
      },
      "outputs": [],
      "source": [
        "# video writer\n",
        "\n",
        "video_writer = cv2.VideoWriter('output.mp4', cv2.VideoWriter_fourcc(*'mp4v'), fps, (w,h))"
      ]
    },
    {
      "cell_type": "code",
      "source": [
        "success, frame = cap.read()\n",
        "# Regions (4) of intrestes rectangle\n",
        "# top\n",
        "top_roi = cv2.rectangle(frame, (0, 0), (w, 50), (0, 255, 0), 2)\n",
        "# bottom\n",
        "bottom_roi = cv2.rectangle(frame, (0, h - 50), (w, h), (0, 255, 0), 2)\n",
        "# left\n",
        "left_roi = cv2.rectangle(frame, (0, 0), (50, h), (0, 255, 0), 2)\n",
        "# right\n",
        "right_roi = cv2.rectangle(frame, (w - 50, 0), (w, h), (0, 255, 0), 2)\n",
        "\n",
        "\n",
        "# count vehicles on all sides\n",
        "\n",
        "left_vehicle_count = 0\n",
        "Right_vehicle_count = 0\n",
        "top_vehicle_count = 0\n",
        "bottom_vehicle_count = 0\n",
        "\n",
        "while cap.isOpened():\n",
        "    success, frame = cap.read()\n",
        "\n",
        "    if success:\n",
        "\n",
        "        results = model(frame, conf=0.5)\n",
        "        annot_frame = results[0].plot()\n",
        "\n",
        "        # draw ROI\n",
        "\n",
        "        # top\n",
        "        top_roi = cv2.rectangle(annot_frame, (0, 0), (w, 50), (0, 255, 0), 2)\n",
        "        # bottom\n",
        "        bottom_roi = cv2.rectangle(annot_frame, (0, h - 50), (w, h), (0, 255, 0), 2)\n",
        "        # left\n",
        "        left_roi = cv2.rectangle(annot_frame, (0, 0), (50, h), (0, 255, 0), 2)\n",
        "        # right\n",
        "        right_roi = cv2.rectangle(annot_frame, (w - 50, 0), (w, h), (0, 255, 0), 2)\n",
        "\n",
        "\n",
        "        cv2.putText(annot_frame, f\"Top: {top_vehicle_count}\", (10, 30), cv2.FONT_HERSHEY_SIMPLEX, 1, (0, 0, 255), 2)\n",
        "        cv2.putText(annot_frame, f\"Bottom: {bottom_vehicle_count}\", (10, h - 20), cv2.FONT_HERSHEY_SIMPLEX, 1, (0, 0, 255), 2)\n",
        "        cv2.putText(annot_frame, f\"Left: {left_vehicle_count}\", (10, h // 2), cv2.FONT_HERSHEY_SIMPLEX, 1, (0, 0, 255), 2)\n",
        "        cv2.putText(annot_frame, f\"Right: {Right_vehicle_count}\", (w - 150, h // 2), cv2.FONT_HERSHEY_SIMPLEX, 1, (0, 0, 255), 2)\n",
        "\n",
        "\n",
        "        video_writer.write(annot_frame)\n",
        "\n",
        "    else:\n",
        "        break\n",
        "\n",
        "\n",
        "cap.release()\n",
        "video_writer.release()\n",
        "cv2.destroyAllWindows()"
      ],
      "metadata": {
        "id": "ABSJbxkoBynd"
      },
      "id": "ABSJbxkoBynd",
      "execution_count": 28,
      "outputs": []
    },
    {
      "cell_type": "markdown",
      "id": "31e882a2",
      "metadata": {
        "id": "31e882a2"
      },
      "source": [
        "## Expermint to get the `(x1, y1, x2, y2)` of the ROI"
      ]
    },
    {
      "cell_type": "markdown",
      "id": "3b6e6d97",
      "metadata": {
        "id": "3b6e6d97"
      },
      "source": [
        "### Hint\n",
        "When defining the Regions of Interest (ROIs) for detecting vehicles exiting the road, consider the coordinates that outline the relevant areas. These coordinates can be specified as `(x1, y1, x2, y2)`, where `(x1, y1)` is the top-left corner and `(x2, y2)` is the bottom-right corner of the rectangle.\n",
        "\n",
        "Experiment with different coordinates to accurately cover the streets where vehicles exit. Visualize these ROIs by drawing rectangles on a frame of the video and adjust the coordinates as needed until you capture the desired areas effectively."
      ]
    },
    {
      "cell_type": "code",
      "source": [
        "#  top-left (x1,y1) and bottom-right (x2,y2)\n",
        "\n",
        "results = model(frame, conf=0.5)\n",
        "boxes = results[0].boxes.xyxy.cpu().numpy()\n",
        "labels = results[0].boxes.cls.cpu().numpy()\n",
        "for box, label in zip(boxes, labels):\n",
        "            x1, y1, x2, y2 = box.astype(int)\n",
        "\n",
        "\n",
        "            if label in [1, 2,3]:  # class ID: 1 car,2 bus, 3 person\n",
        "\n",
        "                center_x = (x1 + x2) // 2\n",
        "                center_y = (y1 + y2) // 2\n",
        "\n",
        "\n",
        "                if center_y < 50:  # top\n",
        "                    top_vehicle_count += 1\n",
        "                elif center_y > h - 50:  # bottom\n",
        "                    bottom_vehicle_count += 1\n",
        "                if center_x < 50:  # left\n",
        "                    left_vehicle_count += 1\n",
        "                elif center_x > w - 50:  # right\n",
        "                    Right_vehicle_count += 1"
      ],
      "metadata": {
        "id": "W9b4pmyTC6kn",
        "colab": {
          "base_uri": "https://localhost:8080/"
        },
        "outputId": "78bc643b-e5a6-4c24-846c-67708470124b"
      },
      "id": "W9b4pmyTC6kn",
      "execution_count": 18,
      "outputs": [
        {
          "output_type": "stream",
          "name": "stdout",
          "text": [
            "WARNING ⚠️ 'source' is missing. Using 'source=/usr/local/lib/python3.10/dist-packages/ultralytics/assets'.\n",
            "\n",
            "image 1/2 /usr/local/lib/python3.10/dist-packages/ultralytics/assets/bus.jpg: 640x480 3 persons, 1 bus, 294.6ms\n",
            "image 2/2 /usr/local/lib/python3.10/dist-packages/ultralytics/assets/zidane.jpg: 384x640 2 persons, 229.7ms\n",
            "Speed: 6.5ms preprocess, 262.1ms inference, 1.8ms postprocess per image at shape (1, 3, 384, 640)\n"
          ]
        }
      ]
    },
    {
      "cell_type": "markdown",
      "id": "067dbc12",
      "metadata": {
        "id": "067dbc12"
      },
      "source": [
        "## Process Video Frames and Identify Vehicles Left the Road Form Each Street"
      ]
    },
    {
      "cell_type": "markdown",
      "id": "aa695d88",
      "metadata": {
        "id": "aa695d88"
      },
      "source": [
        "For each frame in the video, use the YOLO model to detect and track vehicles. You will need to write a loop that processes each frame and applies the YOLO model.\n",
        "\n",
        "In each frame, after detecting the vehicles, determine whether they exited the road via the top, bottom, left, or right street. You can use the positions of the bounding boxes provided by YOLO to do this.\n",
        "\n",
        "- The video should display bounding boxes around the detected objects.\n",
        "- The video should display your name on the top.\n",
        "- It should display the calculated center of each vehicle.\n",
        "- The video should display the confidence score, alongside the object ID and class ID of each detected and tracked object.\n",
        "- The video should display the rectangles representing the regions where you count the vehicles that have crossed and exited.\n",
        "- The video should display the number of vehicles that exited via the top street.\n",
        "- The video should display the number of vehicles that exited via the bottom street.\n",
        "- The video should display the number of vehicles that exited via the left street.\n",
        "- The video should display the number of vehicles that exited via the right street."
      ]
    },
    {
      "cell_type": "code",
      "execution_count": 16,
      "id": "877d1d56",
      "metadata": {
        "vscode": {
          "languageId": "plaintext"
        },
        "id": "877d1d56"
      },
      "outputs": [],
      "source": [
        "left_vehicle_count = 0\n",
        "right_vehicle_count = 0\n",
        "top_vehicle_count = 0\n",
        "bottom_vehicle_count= 0\n",
        "\n",
        "line_position = 100 # try 100 first\n",
        "line_color = (0, 140, 0)\n"
      ]
    },
    {
      "cell_type": "code",
      "source": [
        "# get help from: https://docs.opencv.org/4.x/dd/d43/tutorial_py_video_display.html\n",
        "\n",
        "from google.colab.patches import cv2_imshow\n",
        "\n",
        "while True:\n",
        "    ret, frame = cap.read()\n",
        "    if not ret:\n",
        "        break\n",
        "\n",
        "\n",
        "    results = model(frame)\n",
        "\n",
        "    # vehicles on all sides will be in list\n",
        "    left_vehicles = []\n",
        "    right_vehicles = []\n",
        "    top_vehicles = []\n",
        "    bottom_vehicles = []\n",
        "\n",
        "    # the process\n",
        "    for result in results:\n",
        "        if result.boxes:\n",
        "            for box in result.boxes:\n",
        "                if box.conf > 0.5:  # try 0.5 first\n",
        "                    x1, y1, x2, y2 = map(int, box.xyxy[0])\n",
        "                    class_ID = int(box.cls[0])\n",
        "                    confidence = box.conf[0] # show conf score\n",
        "\n",
        "                    # where the vehicle locate, center_x for left&right vehicles\n",
        "                    center_x = (x1 + x2) // 2\n",
        "                    #display the calculated center of each vehicle\n",
        "\n",
        "                    if center_x < frame.shape[1] // 2:\n",
        "                        left_vehicles.append((x1, y1, x2, y2, confidence, class_ID))\n",
        "                    else:\n",
        "                        right_vehicles.append((x1, y1, x2, y2, confidence, class_ID))\n",
        "\n",
        "                    # center_y for top&bottom vehicles\n",
        "                    center_y = (y1 + y2) // 2\n",
        "                    #display the calculated center of each vehicle\n",
        "\n",
        "                    if center_x < frame.shape[1] // 2:\n",
        "                        bottom_vehicles.append((x1, y1, x2, y2, confidence, class_ID))\n",
        "                    else:\n",
        "                        top_vehicles.append((x1, y1, x2, y2, confidence, class_ID))\n",
        "\n",
        "                    # video should display your name on the top\n",
        "                    # get help from: https://answers.opencv.org/question/232636/show-video-and-texts-on-single-window/\n",
        "                    #title = 'Rahaf Almutairi'\n",
        "                    #cv2.putText(frame,title,(100,100),cv2.FONT_HERSHEY_SIMPLEX, 1.5, (b,g,r),1,cv2.LINE_AA)\n",
        "\n",
        "\n",
        "                    # https://www.geeksforgeeks.org/python-opencv-write-text-on-video/\n",
        "                    cv2.putText(frame,'Rahaf Almutairi', (50, 50),font, 1,  (0, 255, 255),  2, cv2.LINE_4)\n",
        "\n",
        "\n",
        "                    # surround objects with boundin box and label\n",
        "                    cv2.rectangle(frame, (x1, y1), (x2, y2), (0, 255, 0), 2)\n",
        "\n",
        "                    label = f\"ID: {class_ID}, Confidence: {confidence:.2f}\"\n",
        "                    cv2.putText(frame, label, (x1, y1 - 10), cv2.FONT_HERSHEY_PLAIN, 0.5, (255, 255, 255), 1)\n",
        "\n",
        "\n",
        "\n",
        "\n",
        "    # how many vehicles due to line postioin\n",
        "    for vehicle in left_vehicles:\n",
        "        if vehicle[1] > line_position:\n",
        "            left_vehicle_count += 1\n",
        "    for vehicle in right_vehicles:\n",
        "        if vehicle[1] > line_position:\n",
        "            right_vehicle_count += 1\n",
        "\n",
        "    for vehicle in top_vehicles:\n",
        "        if vehicle[1] > line_position:\n",
        "            top_vehicle_count += 1\n",
        "    for vehicle in bottom_vehicles:\n",
        "        if vehicle[1] > line_position:\n",
        "            bottom_vehicle_count += 1\n",
        "\n",
        "\n",
        "    # the line to start count\n",
        "    cv2.line(frame, (0, line_position), (frame.shape[1], line_position), line_color, 2)\n",
        "\n",
        "    # show counts of vehicls\n",
        "    cv2.putText(frame, f\"Left Vehicles: {left_vehicle_count}\", (10, 30),\n",
        "                cv2.FONT_HERSHEY_PLAIN, 1, (255, 255, 255), 2)\n",
        "    cv2.putText(frame, f\"Right Vehicles: {right_vehicle_count}\", (10, 60),\n",
        "                cv2.FONT_HERSHEY_PLAIN, 1, (255, 255, 255), 2)\n",
        "    cv2.putText(frame, f\"Top Vehicles: {top_vehicle_count}\", (10, 90),\n",
        "                cv2.FONT_HERSHEY_PLAIN, 1, (255, 255, 255), 2)\n",
        "    cv2.putText(frame, f\"Bottom Vehicles: {bottom_vehicle_count}\", (10, 120),\n",
        "                cv2.FONT_HERSHEY_PLAIN, 1, (255, 255, 255), 2)\n",
        "\n",
        "\n",
        "    cv2_imshow(frame)\n",
        "\n",
        "    # to break\n",
        "    if cv2.waitKey(1) & 0xFF == ord('q'):\n",
        "        break\n",
        "\n",
        "cap.release()\n",
        "video_writer.release()\n",
        "cv2.destroyAllWindows()"
      ],
      "metadata": {
        "id": "VHQdEf57CcRF"
      },
      "id": "VHQdEf57CcRF",
      "execution_count": 17,
      "outputs": []
    },
    {
      "cell_type": "markdown",
      "id": "71d3083e",
      "metadata": {
        "id": "71d3083e"
      },
      "source": [
        "## Save and Submit Your Work"
      ]
    },
    {
      "cell_type": "markdown",
      "id": "ae5e33ac",
      "metadata": {
        "id": "ae5e33ac"
      },
      "source": [
        "Submit both the notebook and the output video"
      ]
    }
  ],
  "metadata": {
    "language_info": {
      "name": "python"
    },
    "colab": {
      "provenance": []
    },
    "kernelspec": {
      "name": "python3",
      "display_name": "Python 3"
    }
  },
  "nbformat": 4,
  "nbformat_minor": 5
}