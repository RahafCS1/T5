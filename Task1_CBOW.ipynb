{
  "cells": [
    {
      "cell_type": "markdown",
      "metadata": {
        "id": "L4G-WdYBozAF"
      },
      "source": [
        "# Continuous Bag of Words (CBOW) Model"
      ]
    },
    {
      "cell_type": "markdown",
      "metadata": {
        "id": "RhS9KCVPpSy2"
      },
      "source": [
        "In this exam, we will create a CBOW model using a sample Arabic traffic corpus. The corpus consists of sentences describing various traffic scenarios. The goal of the CBOW model is to predict a target word based on its surrounding context words."
      ]
    },
    {
      "cell_type": "markdown",
      "metadata": {
        "id": "BmX5AlBspz6g"
      },
      "source": [
        "# Importing Required Libraries"
      ]
    },
    {
      "cell_type": "markdown",
      "metadata": {
        "id": "S6Ba2ibzpydu"
      },
      "source": [
        "In this step, we import the necessary libraries to build and train the Continuous Bag of Words (CBOW) model.\n",
        "\n",
        "- **TensorFlow and Keras**: Used to build the neural network model, including the layers like `Embedding`, `Dense`, and `Lambda`.\n",
        "- **Tokenizer**: A utility from Keras for tokenizing and processing text data.\n",
        "- **NumPy**: Used for handling numerical operations, particularly for processing arrays and data manipulation.\n",
        "\n",
        "These libraries will provide the essential tools for text preprocessing and model development in the upcoming steps.\n",
        "\n",
        "Add more if needed!\n"
      ]
    },
    {
      "cell_type": "code",
      "execution_count": 1,
      "metadata": {
        "id": "vLFR0MF1p2Y2"
      },
      "outputs": [],
      "source": [
        "import tensorflow as tf\n",
        "import numpy as np\n",
        "import keras\n",
        "from tensorflow.keras.preprocessing.text import Tokenizer\n",
        "from collections import Counter"
      ]
    },
    {
      "cell_type": "markdown",
      "metadata": {
        "id": "-LHg8WazpVFL"
      },
      "source": [
        "# Preparing the Corpus"
      ]
    },
    {
      "cell_type": "markdown",
      "metadata": {
        "id": "aXDrgRcvoliV"
      },
      "source": [
        "In this step, we initialize the corpus that will be used for training the Continuous Bag of Words (CBOW) model. The corpus consists of Arabic sentences, each of which describes different traffic scenarios.\n",
        "\n",
        "- **Corpus**: A collection of traffic-related sentences in Arabic.\n",
        "\n",
        "This step sets up the text data that we will use in the upcoming stages of tokenization and model training."
      ]
    },
    {
      "cell_type": "code",
      "execution_count": 2,
      "metadata": {
        "id": "qEQJL-CNjjvO"
      },
      "outputs": [],
      "source": [
        "corpus = [\n",
        "    \"الطريق مزدحم اليوم بسبب الحادث المروري الذي حدث صباحاً ويؤدي إلى تأخير كبير في الوصول\",\n",
        "    \"كان الطريق مزدحما للغاية والسيارات متوقفة تقريباً نتيجة الازدحام الشديد والحركة بطيئة جداً ولا تتحسن\",\n",
        "    \"أنا أحب الذهاب إلى السوق في الصباح الباكر لتفادي الازدحام وشراء الخضروات الطازجة دون الانتظار في الطريق\",\n",
        "    \"السيارات بطيئة بسبب الازدحام المروري في الشارع الرئيسي والتأخير في حركة المرور خلال ساعات الذروة\",\n",
        "    \"هناك ازدحام مروري في الشارع بسبب أعمال البناء والحفريات التي تعطل حركة السيارات وتتسبب في تأخير كبير\",\n",
        "    \"ازدحام السيارات يزداد في المساء عندما يبدأ الجميع بالعودة إلى منازلهم من العمل وتتوقف حركة المرور بالكامل\",\n",
        "    \"الطريق السريع يشهد ازدحاما مستمرا خلال فترة الظهيرة بسبب الشاحنات الكبيرة التي تبطئ حركة السير\",\n",
        "    \"الحافلات والسيارات عالقة في الازدحام المروري في المنطقة التجارية مما يؤدي إلى تأخير وصول الناس إلى وجهاتهم\",\n",
        "    \"حركة المرور مزدحمة اليوم بسبب الفعاليات التي تقام في وسط المدينة مما يزيد من صعوبة الوصول إلى هناك\",\n",
        "    \"كان من الصعب جدا القيادة على الطريق الرئيسي اليوم بسبب الازدحام الخانق الذي استمر طوال اليوم\",\n",
        "    \"الطريق إلى المطار مزدحم اليوم بسبب الحوادث المتكررة والتأخيرات الكبيرة في حركة المرور على الطريق السريع\",\n",
        "    \"الشارع مزدحم بالسيارات والحافلات الكبيرة مما يجعل التنقل بطيئًا جدًا ويزيد من وقت الوصول إلى العمل\",\n",
        "    \"ازدحام السيارات في المدينة أصبح مشكلة كبيرة خاصة خلال ساعات الذروة حيث يصعب التحرك بسرعة\",\n",
        "    \"تفاقم الازدحام في الطرق الجانبية بسبب إغلاق الطريق الرئيسي المؤدي إلى وسط المدينة لصيانة الجسر\",\n",
        "    \"ازدحام مروري خانق يواجه السكان يوميًا خلال تنقلهم من وإلى العمل على الطرق السريعة المؤدية إلى المدينة\",\n",
        "    \"التأخيرات المرورية اليوم ناجمة عن سوء الأحوال الجوية والضباب الذي يعيق الرؤية ويبطئ حركة السيارات\",\n",
        "    \"حوادث السير المتكررة على الطريق الزراعي تؤدي إلى ازدحام مروري شديد وتأخير كبير في وصول السيارات\",\n",
        "    \"كانت حركة السير اليوم غير منتظمة بسبب تنظيم حدث رياضي كبير أدى إلى إغلاق بعض الشوارع الرئيسية\",\n",
        "    \"الأعمال الإنشائية في الشارع الرئيسي تسببت في اختناق مروري كامل وتباطؤ في حركة السيارات خلال النهار\",\n",
        "    \"تراكم السيارات عند تقاطع الطرق الرئيسية أدى إلى ازدحام شديد وزيادة كبيرة في مدة الانتظار للوصول إلى الجهة المطلوبة\"\n",
        "]"
      ]
    },
    {
      "cell_type": "markdown",
      "metadata": {
        "id": "TtAp6KPlqBzA"
      },
      "source": [
        "# Defining Vocabulary and Model Parameters"
      ]
    },
    {
      "cell_type": "markdown",
      "metadata": {
        "id": "EOPRl8IfqAHo"
      },
      "source": [
        "In this step, we define key parameters that will be used to configure the CBOW model.\n",
        "\n",
        "- **Vocabulary size**: We calculate the size of the vocabulary based on the number of unique words in the corpus. The `vocab_size` represents the total number of unique tokens (words) in the dataset plus one for padding.\n",
        "  \n",
        "- **Embedding size**: The `embedding_size` defines the dimensionality of the word embeddings. In this case, we set the embedding size to 10, meaning each word will be represented as a 10-dimensional vector in the embedding layer.\n",
        "\n",
        "- **Window size**: The `window_size` defines how many words to the left and right of the target word are considered as context. Here, a window size of 2 means that two words before and two words after the target word will be used as context.\n",
        "\n",
        "These parameters will play an essential role in shaping the CBOW model architecture.\n"
      ]
    },
    {
      "cell_type": "code",
      "execution_count": 3,
      "metadata": {
        "id": "icwJ4As2qEkP",
        "colab": {
          "base_uri": "https://localhost:8080/"
        },
        "outputId": "82333f1f-d304-4a9e-96cd-b6860267df4a"
      },
      "outputs": [
        {
          "output_type": "stream",
          "name": "stdout",
          "text": [
            "Vocabulary Size: 179\n",
            "Embedding Size: 10\n",
            "Window Size: 2\n",
            "Word to Index Mapping: {'الطريق': 0, 'مزدحم': 1, 'اليوم': 2, 'بسبب': 3, 'الحادث': 4, 'المروري': 5, 'الذي': 6, 'حدث': 7, 'صباحاً': 8, 'ويؤدي': 9, 'إلى': 10, 'تأخير': 11, 'كبير': 12, 'في': 13, 'الوصول': 14, 'كان': 15, 'مزدحما': 16, 'للغاية': 17, 'والسيارات': 18, 'متوقفة': 19, 'تقريباً': 20, 'نتيجة': 21, 'الازدحام': 22, 'الشديد': 23, 'والحركة': 24, 'بطيئة': 25, 'جداً': 26, 'ولا': 27, 'تتحسن': 28, 'أنا': 29, 'أحب': 30, 'الذهاب': 31, 'السوق': 32, 'الصباح': 33, 'الباكر': 34, 'لتفادي': 35, 'وشراء': 36, 'الخضروات': 37, 'الطازجة': 38, 'دون': 39, 'الانتظار': 40, 'السيارات': 41, 'الشارع': 42, 'الرئيسي': 43, 'والتأخير': 44, 'حركة': 45, 'المرور': 46, 'خلال': 47, 'ساعات': 48, 'الذروة': 49, 'هناك': 50, 'ازدحام': 51, 'مروري': 52, 'أعمال': 53, 'البناء': 54, 'والحفريات': 55, 'التي': 56, 'تعطل': 57, 'وتتسبب': 58, 'يزداد': 59, 'المساء': 60, 'عندما': 61, 'يبدأ': 62, 'الجميع': 63, 'بالعودة': 64, 'منازلهم': 65, 'من': 66, 'العمل': 67, 'وتتوقف': 68, 'بالكامل': 69, 'السريع': 70, 'يشهد': 71, 'ازدحاما': 72, 'مستمرا': 73, 'فترة': 74, 'الظهيرة': 75, 'الشاحنات': 76, 'الكبيرة': 77, 'تبطئ': 78, 'السير': 79, 'الحافلات': 80, 'عالقة': 81, 'المنطقة': 82, 'التجارية': 83, 'مما': 84, 'يؤدي': 85, 'وصول': 86, 'الناس': 87, 'وجهاتهم': 88, 'مزدحمة': 89, 'الفعاليات': 90, 'تقام': 91, 'وسط': 92, 'المدينة': 93, 'يزيد': 94, 'صعوبة': 95, 'الصعب': 96, 'جدا': 97, 'القيادة': 98, 'على': 99, 'الخانق': 100, 'استمر': 101, 'طوال': 102, 'المطار': 103, 'الحوادث': 104, 'المتكررة': 105, 'والتأخيرات': 106, 'بالسيارات': 107, 'والحافلات': 108, 'يجعل': 109, 'التنقل': 110, 'بطيئًا': 111, 'جدًا': 112, 'ويزيد': 113, 'وقت': 114, 'أصبح': 115, 'مشكلة': 116, 'كبيرة': 117, 'خاصة': 118, 'حيث': 119, 'يصعب': 120, 'التحرك': 121, 'بسرعة': 122, 'تفاقم': 123, 'الطرق': 124, 'الجانبية': 125, 'إغلاق': 126, 'المؤدي': 127, 'لصيانة': 128, 'الجسر': 129, 'خانق': 130, 'يواجه': 131, 'السكان': 132, 'يوميًا': 133, 'تنقلهم': 134, 'وإلى': 135, 'السريعة': 136, 'المؤدية': 137, 'التأخيرات': 138, 'المرورية': 139, 'ناجمة': 140, 'عن': 141, 'سوء': 142, 'الأحوال': 143, 'الجوية': 144, 'والضباب': 145, 'يعيق': 146, 'الرؤية': 147, 'ويبطئ': 148, 'حوادث': 149, 'الزراعي': 150, 'تؤدي': 151, 'شديد': 152, 'وتأخير': 153, 'كانت': 154, 'غير': 155, 'منتظمة': 156, 'تنظيم': 157, 'رياضي': 158, 'أدى': 159, 'بعض': 160, 'الشوارع': 161, 'الرئيسية': 162, 'الأعمال': 163, 'الإنشائية': 164, 'تسببت': 165, 'اختناق': 166, 'كامل': 167, 'وتباطؤ': 168, 'النهار': 169, 'تراكم': 170, 'عند': 171, 'تقاطع': 172, 'وزيادة': 173, 'مدة': 174, 'للوصول': 175, 'الجهة': 176, 'المطلوبة': 177, '<pad>': 178}\n"
          ]
        }
      ],
      "source": [
        "tokens = []\n",
        "for item in corpus:\n",
        "    tokens.extend(item.lower().split())\n",
        "\n",
        "vocab = Counter(tokens)\n",
        "\n",
        "# key parameters\n",
        "vocab_size = len(vocab) + 1  # +1 for paddin\n",
        "embedding_size = 10\n",
        "window_size = 2\n",
        "\n",
        "\n",
        "print(f\"Vocabulary Size: {vocab_size}\")\n",
        "print(f\"Embedding Size: {embedding_size}\")\n",
        "print(f\"Window Size: {window_size}\")\n",
        "\n",
        "\n",
        "word_to_index = {word: i for i, (word, _) in enumerate(vocab.items())}\n",
        "word_to_index['<pad>'] = len(word_to_index)\n",
        "\n",
        "print(\"Word to Index Mapping:\", word_to_index)"
      ]
    },
    {
      "cell_type": "markdown",
      "metadata": {
        "id": "w6b35855qQqP"
      },
      "source": [
        "# Preparing Context-Target Pairs for CBOW"
      ]
    },
    {
      "cell_type": "markdown",
      "metadata": {
        "id": "589xXbYmqEuR"
      },
      "source": [
        "In this step, we generate the context-target pairs from the tokenized sequences to train the CBOW model.\n",
        "\n",
        "- **Context words**: For each word in a sequence, the surrounding words (within the window size) are considered as context. The context consists of the words immediately before and after the target word.\n",
        "  \n",
        "- **Target word**: The word in the middle of the context window is treated as the target word that the model will learn to predict.\n",
        "\n",
        "We iterate through each sequence, collecting the context words and corresponding target words:\n",
        "- For each word in a sequence, we gather the surrounding words based on the defined window size.\n",
        "- The middle word is the target, and the surrounding words form the context.\n",
        "\n",
        "Finally:\n",
        "- **`X`**: An array of context words.\n",
        "- **`y`**: The target words are one-hot encoded, which means they are converted into a categorical format where each word is represented as a vector of length equal to the vocabulary size.\n",
        "\n",
        "These context-target pairs will be used to train the CBOW model to predict a target word based on its context.\n"
      ]
    },
    {
      "cell_type": "code",
      "execution_count": 4,
      "metadata": {
        "id": "c8c1MkYOqSfd",
        "colab": {
          "base_uri": "https://localhost:8080/"
        },
        "outputId": "9e92e253-b82b-4ef6-99f4-c1f69111ac02"
      },
      "outputs": [
        {
          "output_type": "stream",
          "name": "stdout",
          "text": [
            "Context: ['مزدحم', 'اليوم'], Target: الطريق\n",
            "Context: ['الطريق', 'اليوم', 'بسبب'], Target: مزدحم\n",
            "Context: ['الطريق', 'مزدحم', 'بسبب', 'الحادث'], Target: اليوم\n",
            "Context: ['مزدحم', 'اليوم', 'الحادث', 'المروري'], Target: بسبب\n",
            "Context: ['اليوم', 'بسبب', 'المروري', 'الذي'], Target: الحادث\n",
            "Context: ['بسبب', 'الحادث', 'الذي', 'حدث'], Target: المروري\n",
            "Context: ['الحادث', 'المروري', 'حدث', 'صباحاً'], Target: الذي\n",
            "Context: ['المروري', 'الذي', 'صباحاً', 'ويؤدي'], Target: حدث\n",
            "Context: ['الذي', 'حدث', 'ويؤدي', 'إلى'], Target: صباحاً\n",
            "Context: ['حدث', 'صباحاً', 'إلى', 'تأخير'], Target: ويؤدي\n",
            "Context: ['صباحاً', 'ويؤدي', 'تأخير', 'كبير'], Target: إلى\n",
            "Context: ['ويؤدي', 'إلى', 'كبير', 'في'], Target: تأخير\n",
            "Context: ['إلى', 'تأخير', 'في', 'الوصول'], Target: كبير\n",
            "Context: ['تأخير', 'كبير', 'الوصول', 'كان'], Target: في\n",
            "Context: ['كبير', 'في', 'كان', 'الطريق'], Target: الوصول\n",
            "Context: ['في', 'الوصول', 'الطريق', 'مزدحما'], Target: كان\n",
            "Context: ['الوصول', 'كان', 'مزدحما', 'للغاية'], Target: الطريق\n",
            "Context: ['كان', 'الطريق', 'للغاية', 'والسيارات'], Target: مزدحما\n",
            "Context: ['الطريق', 'مزدحما', 'والسيارات', 'متوقفة'], Target: للغاية\n",
            "Context: ['مزدحما', 'للغاية', 'متوقفة', 'تقريباً'], Target: والسيارات\n",
            "Context: ['للغاية', 'والسيارات', 'تقريباً', 'نتيجة'], Target: متوقفة\n",
            "Context: ['والسيارات', 'متوقفة', 'نتيجة', 'الازدحام'], Target: تقريباً\n",
            "Context: ['متوقفة', 'تقريباً', 'الازدحام', 'الشديد'], Target: نتيجة\n",
            "Context: ['تقريباً', 'نتيجة', 'الشديد', 'والحركة'], Target: الازدحام\n",
            "Context: ['نتيجة', 'الازدحام', 'والحركة', 'بطيئة'], Target: الشديد\n",
            "Context: ['الازدحام', 'الشديد', 'بطيئة', 'جداً'], Target: والحركة\n",
            "Context: ['الشديد', 'والحركة', 'جداً', 'ولا'], Target: بطيئة\n",
            "Context: ['والحركة', 'بطيئة', 'ولا', 'تتحسن'], Target: جداً\n",
            "Context: ['بطيئة', 'جداً', 'تتحسن', 'أنا'], Target: ولا\n",
            "Context: ['جداً', 'ولا', 'أنا', 'أحب'], Target: تتحسن\n",
            "Context: ['ولا', 'تتحسن', 'أحب', 'الذهاب'], Target: أنا\n",
            "Context: ['تتحسن', 'أنا', 'الذهاب', 'إلى'], Target: أحب\n",
            "Context: ['أنا', 'أحب', 'إلى', 'السوق'], Target: الذهاب\n",
            "Context: ['أحب', 'الذهاب', 'السوق', 'في'], Target: إلى\n",
            "Context: ['الذهاب', 'إلى', 'في', 'الصباح'], Target: السوق\n",
            "Context: ['إلى', 'السوق', 'الصباح', 'الباكر'], Target: في\n",
            "Context: ['السوق', 'في', 'الباكر', 'لتفادي'], Target: الصباح\n",
            "Context: ['في', 'الصباح', 'لتفادي', 'الازدحام'], Target: الباكر\n",
            "Context: ['الصباح', 'الباكر', 'الازدحام', 'وشراء'], Target: لتفادي\n",
            "Context: ['الباكر', 'لتفادي', 'وشراء', 'الخضروات'], Target: الازدحام\n",
            "Context: ['لتفادي', 'الازدحام', 'الخضروات', 'الطازجة'], Target: وشراء\n",
            "Context: ['الازدحام', 'وشراء', 'الطازجة', 'دون'], Target: الخضروات\n",
            "Context: ['وشراء', 'الخضروات', 'دون', 'الانتظار'], Target: الطازجة\n",
            "Context: ['الخضروات', 'الطازجة', 'الانتظار', 'في'], Target: دون\n",
            "Context: ['الطازجة', 'دون', 'في', 'الطريق'], Target: الانتظار\n",
            "Context: ['دون', 'الانتظار', 'الطريق', 'السيارات'], Target: في\n",
            "Context: ['الانتظار', 'في', 'السيارات', 'بطيئة'], Target: الطريق\n",
            "Context: ['في', 'الطريق', 'بطيئة', 'بسبب'], Target: السيارات\n",
            "Context: ['الطريق', 'السيارات', 'بسبب', 'الازدحام'], Target: بطيئة\n",
            "Context: ['السيارات', 'بطيئة', 'الازدحام', 'المروري'], Target: بسبب\n",
            "Context: ['بطيئة', 'بسبب', 'المروري', 'في'], Target: الازدحام\n",
            "Context: ['بسبب', 'الازدحام', 'في', 'الشارع'], Target: المروري\n",
            "Context: ['الازدحام', 'المروري', 'الشارع', 'الرئيسي'], Target: في\n",
            "Context: ['المروري', 'في', 'الرئيسي', 'والتأخير'], Target: الشارع\n",
            "Context: ['في', 'الشارع', 'والتأخير', 'في'], Target: الرئيسي\n",
            "Context: ['الشارع', 'الرئيسي', 'في', 'حركة'], Target: والتأخير\n",
            "Context: ['الرئيسي', 'والتأخير', 'حركة', 'المرور'], Target: في\n",
            "Context: ['والتأخير', 'في', 'المرور', 'خلال'], Target: حركة\n",
            "Context: ['في', 'حركة', 'خلال', 'ساعات'], Target: المرور\n",
            "Context: ['حركة', 'المرور', 'ساعات', 'الذروة'], Target: خلال\n",
            "Context: ['المرور', 'خلال', 'الذروة', 'هناك'], Target: ساعات\n",
            "Context: ['خلال', 'ساعات', 'هناك', 'ازدحام'], Target: الذروة\n",
            "Context: ['ساعات', 'الذروة', 'ازدحام', 'مروري'], Target: هناك\n",
            "Context: ['الذروة', 'هناك', 'مروري', 'في'], Target: ازدحام\n",
            "Context: ['هناك', 'ازدحام', 'في', 'الشارع'], Target: مروري\n",
            "Context: ['ازدحام', 'مروري', 'الشارع', 'بسبب'], Target: في\n",
            "Context: ['مروري', 'في', 'بسبب', 'أعمال'], Target: الشارع\n",
            "Context: ['في', 'الشارع', 'أعمال', 'البناء'], Target: بسبب\n",
            "Context: ['الشارع', 'بسبب', 'البناء', 'والحفريات'], Target: أعمال\n",
            "Context: ['بسبب', 'أعمال', 'والحفريات', 'التي'], Target: البناء\n",
            "Context: ['أعمال', 'البناء', 'التي', 'تعطل'], Target: والحفريات\n",
            "Context: ['البناء', 'والحفريات', 'تعطل', 'حركة'], Target: التي\n",
            "Context: ['والحفريات', 'التي', 'حركة', 'السيارات'], Target: تعطل\n",
            "Context: ['التي', 'تعطل', 'السيارات', 'وتتسبب'], Target: حركة\n",
            "Context: ['تعطل', 'حركة', 'وتتسبب', 'في'], Target: السيارات\n",
            "Context: ['حركة', 'السيارات', 'في', 'تأخير'], Target: وتتسبب\n",
            "Context: ['السيارات', 'وتتسبب', 'تأخير', 'كبير'], Target: في\n",
            "Context: ['وتتسبب', 'في', 'كبير', 'ازدحام'], Target: تأخير\n",
            "Context: ['في', 'تأخير', 'ازدحام', 'السيارات'], Target: كبير\n",
            "Context: ['تأخير', 'كبير', 'السيارات', 'يزداد'], Target: ازدحام\n",
            "Context: ['كبير', 'ازدحام', 'يزداد', 'في'], Target: السيارات\n",
            "Context: ['ازدحام', 'السيارات', 'في', 'المساء'], Target: يزداد\n",
            "Context: ['السيارات', 'يزداد', 'المساء', 'عندما'], Target: في\n",
            "Context: ['يزداد', 'في', 'عندما', 'يبدأ'], Target: المساء\n",
            "Context: ['في', 'المساء', 'يبدأ', 'الجميع'], Target: عندما\n",
            "Context: ['المساء', 'عندما', 'الجميع', 'بالعودة'], Target: يبدأ\n",
            "Context: ['عندما', 'يبدأ', 'بالعودة', 'إلى'], Target: الجميع\n",
            "Context: ['يبدأ', 'الجميع', 'إلى', 'منازلهم'], Target: بالعودة\n",
            "Context: ['الجميع', 'بالعودة', 'منازلهم', 'من'], Target: إلى\n",
            "Context: ['بالعودة', 'إلى', 'من', 'العمل'], Target: منازلهم\n",
            "Context: ['إلى', 'منازلهم', 'العمل', 'وتتوقف'], Target: من\n",
            "Context: ['منازلهم', 'من', 'وتتوقف', 'حركة'], Target: العمل\n",
            "Context: ['من', 'العمل', 'حركة', 'المرور'], Target: وتتوقف\n",
            "Context: ['العمل', 'وتتوقف', 'المرور', 'بالكامل'], Target: حركة\n",
            "Context: ['وتتوقف', 'حركة', 'بالكامل', 'الطريق'], Target: المرور\n",
            "Context: ['حركة', 'المرور', 'الطريق', 'السريع'], Target: بالكامل\n",
            "Context: ['المرور', 'بالكامل', 'السريع', 'يشهد'], Target: الطريق\n",
            "Context: ['بالكامل', 'الطريق', 'يشهد', 'ازدحاما'], Target: السريع\n",
            "Context: ['الطريق', 'السريع', 'ازدحاما', 'مستمرا'], Target: يشهد\n",
            "Context: ['السريع', 'يشهد', 'مستمرا', 'خلال'], Target: ازدحاما\n",
            "Context: ['يشهد', 'ازدحاما', 'خلال', 'فترة'], Target: مستمرا\n",
            "Context: ['ازدحاما', 'مستمرا', 'فترة', 'الظهيرة'], Target: خلال\n",
            "Context: ['مستمرا', 'خلال', 'الظهيرة', 'بسبب'], Target: فترة\n",
            "Context: ['خلال', 'فترة', 'بسبب', 'الشاحنات'], Target: الظهيرة\n",
            "Context: ['فترة', 'الظهيرة', 'الشاحنات', 'الكبيرة'], Target: بسبب\n",
            "Context: ['الظهيرة', 'بسبب', 'الكبيرة', 'التي'], Target: الشاحنات\n",
            "Context: ['بسبب', 'الشاحنات', 'التي', 'تبطئ'], Target: الكبيرة\n",
            "Context: ['الشاحنات', 'الكبيرة', 'تبطئ', 'حركة'], Target: التي\n",
            "Context: ['الكبيرة', 'التي', 'حركة', 'السير'], Target: تبطئ\n",
            "Context: ['التي', 'تبطئ', 'السير', 'الحافلات'], Target: حركة\n",
            "Context: ['تبطئ', 'حركة', 'الحافلات', 'والسيارات'], Target: السير\n",
            "Context: ['حركة', 'السير', 'والسيارات', 'عالقة'], Target: الحافلات\n",
            "Context: ['السير', 'الحافلات', 'عالقة', 'في'], Target: والسيارات\n",
            "Context: ['الحافلات', 'والسيارات', 'في', 'الازدحام'], Target: عالقة\n",
            "Context: ['والسيارات', 'عالقة', 'الازدحام', 'المروري'], Target: في\n",
            "Context: ['عالقة', 'في', 'المروري', 'في'], Target: الازدحام\n",
            "Context: ['في', 'الازدحام', 'في', 'المنطقة'], Target: المروري\n",
            "Context: ['الازدحام', 'المروري', 'المنطقة', 'التجارية'], Target: في\n",
            "Context: ['المروري', 'في', 'التجارية', 'مما'], Target: المنطقة\n",
            "Context: ['في', 'المنطقة', 'مما', 'يؤدي'], Target: التجارية\n",
            "Context: ['المنطقة', 'التجارية', 'يؤدي', 'إلى'], Target: مما\n",
            "Context: ['التجارية', 'مما', 'إلى', 'تأخير'], Target: يؤدي\n",
            "Context: ['مما', 'يؤدي', 'تأخير', 'وصول'], Target: إلى\n",
            "Context: ['يؤدي', 'إلى', 'وصول', 'الناس'], Target: تأخير\n",
            "Context: ['إلى', 'تأخير', 'الناس', 'إلى'], Target: وصول\n",
            "Context: ['تأخير', 'وصول', 'إلى', 'وجهاتهم'], Target: الناس\n",
            "Context: ['وصول', 'الناس', 'وجهاتهم', 'حركة'], Target: إلى\n",
            "Context: ['الناس', 'إلى', 'حركة', 'المرور'], Target: وجهاتهم\n",
            "Context: ['إلى', 'وجهاتهم', 'المرور', 'مزدحمة'], Target: حركة\n",
            "Context: ['وجهاتهم', 'حركة', 'مزدحمة', 'اليوم'], Target: المرور\n",
            "Context: ['حركة', 'المرور', 'اليوم', 'بسبب'], Target: مزدحمة\n",
            "Context: ['المرور', 'مزدحمة', 'بسبب', 'الفعاليات'], Target: اليوم\n",
            "Context: ['مزدحمة', 'اليوم', 'الفعاليات', 'التي'], Target: بسبب\n",
            "Context: ['اليوم', 'بسبب', 'التي', 'تقام'], Target: الفعاليات\n",
            "Context: ['بسبب', 'الفعاليات', 'تقام', 'في'], Target: التي\n",
            "Context: ['الفعاليات', 'التي', 'في', 'وسط'], Target: تقام\n",
            "Context: ['التي', 'تقام', 'وسط', 'المدينة'], Target: في\n",
            "Context: ['تقام', 'في', 'المدينة', 'مما'], Target: وسط\n",
            "Context: ['في', 'وسط', 'مما', 'يزيد'], Target: المدينة\n",
            "Context: ['وسط', 'المدينة', 'يزيد', 'من'], Target: مما\n",
            "Context: ['المدينة', 'مما', 'من', 'صعوبة'], Target: يزيد\n",
            "Context: ['مما', 'يزيد', 'صعوبة', 'الوصول'], Target: من\n",
            "Context: ['يزيد', 'من', 'الوصول', 'إلى'], Target: صعوبة\n",
            "Context: ['من', 'صعوبة', 'إلى', 'هناك'], Target: الوصول\n",
            "Context: ['صعوبة', 'الوصول', 'هناك', 'كان'], Target: إلى\n",
            "Context: ['الوصول', 'إلى', 'كان', 'من'], Target: هناك\n",
            "Context: ['إلى', 'هناك', 'من', 'الصعب'], Target: كان\n",
            "Context: ['هناك', 'كان', 'الصعب', 'جدا'], Target: من\n",
            "Context: ['كان', 'من', 'جدا', 'القيادة'], Target: الصعب\n",
            "Context: ['من', 'الصعب', 'القيادة', 'على'], Target: جدا\n",
            "Context: ['الصعب', 'جدا', 'على', 'الطريق'], Target: القيادة\n",
            "Context: ['جدا', 'القيادة', 'الطريق', 'الرئيسي'], Target: على\n",
            "Context: ['القيادة', 'على', 'الرئيسي', 'اليوم'], Target: الطريق\n",
            "Context: ['على', 'الطريق', 'اليوم', 'بسبب'], Target: الرئيسي\n",
            "Context: ['الطريق', 'الرئيسي', 'بسبب', 'الازدحام'], Target: اليوم\n",
            "Context: ['الرئيسي', 'اليوم', 'الازدحام', 'الخانق'], Target: بسبب\n",
            "Context: ['اليوم', 'بسبب', 'الخانق', 'الذي'], Target: الازدحام\n",
            "Context: ['بسبب', 'الازدحام', 'الذي', 'استمر'], Target: الخانق\n",
            "Context: ['الازدحام', 'الخانق', 'استمر', 'طوال'], Target: الذي\n",
            "Context: ['الخانق', 'الذي', 'طوال', 'اليوم'], Target: استمر\n",
            "Context: ['الذي', 'استمر', 'اليوم', 'الطريق'], Target: طوال\n",
            "Context: ['استمر', 'طوال', 'الطريق', 'إلى'], Target: اليوم\n",
            "Context: ['طوال', 'اليوم', 'إلى', 'المطار'], Target: الطريق\n",
            "Context: ['اليوم', 'الطريق', 'المطار', 'مزدحم'], Target: إلى\n",
            "Context: ['الطريق', 'إلى', 'مزدحم', 'اليوم'], Target: المطار\n",
            "Context: ['إلى', 'المطار', 'اليوم', 'بسبب'], Target: مزدحم\n",
            "Context: ['المطار', 'مزدحم', 'بسبب', 'الحوادث'], Target: اليوم\n",
            "Context: ['مزدحم', 'اليوم', 'الحوادث', 'المتكررة'], Target: بسبب\n",
            "Context: ['اليوم', 'بسبب', 'المتكررة', 'والتأخيرات'], Target: الحوادث\n",
            "Context: ['بسبب', 'الحوادث', 'والتأخيرات', 'الكبيرة'], Target: المتكررة\n",
            "Context: ['الحوادث', 'المتكررة', 'الكبيرة', 'في'], Target: والتأخيرات\n",
            "Context: ['المتكررة', 'والتأخيرات', 'في', 'حركة'], Target: الكبيرة\n",
            "Context: ['والتأخيرات', 'الكبيرة', 'حركة', 'المرور'], Target: في\n",
            "Context: ['الكبيرة', 'في', 'المرور', 'على'], Target: حركة\n",
            "Context: ['في', 'حركة', 'على', 'الطريق'], Target: المرور\n",
            "Context: ['حركة', 'المرور', 'الطريق', 'السريع'], Target: على\n",
            "Context: ['المرور', 'على', 'السريع', 'الشارع'], Target: الطريق\n",
            "Context: ['على', 'الطريق', 'الشارع', 'مزدحم'], Target: السريع\n",
            "Context: ['الطريق', 'السريع', 'مزدحم', 'بالسيارات'], Target: الشارع\n",
            "Context: ['السريع', 'الشارع', 'بالسيارات', 'والحافلات'], Target: مزدحم\n",
            "Context: ['الشارع', 'مزدحم', 'والحافلات', 'الكبيرة'], Target: بالسيارات\n",
            "Context: ['مزدحم', 'بالسيارات', 'الكبيرة', 'مما'], Target: والحافلات\n",
            "Context: ['بالسيارات', 'والحافلات', 'مما', 'يجعل'], Target: الكبيرة\n",
            "Context: ['والحافلات', 'الكبيرة', 'يجعل', 'التنقل'], Target: مما\n",
            "Context: ['الكبيرة', 'مما', 'التنقل', 'بطيئًا'], Target: يجعل\n",
            "Context: ['مما', 'يجعل', 'بطيئًا', 'جدًا'], Target: التنقل\n",
            "Context: ['يجعل', 'التنقل', 'جدًا', 'ويزيد'], Target: بطيئًا\n",
            "Context: ['التنقل', 'بطيئًا', 'ويزيد', 'من'], Target: جدًا\n",
            "Context: ['بطيئًا', 'جدًا', 'من', 'وقت'], Target: ويزيد\n",
            "Context: ['جدًا', 'ويزيد', 'وقت', 'الوصول'], Target: من\n",
            "Context: ['ويزيد', 'من', 'الوصول', 'إلى'], Target: وقت\n",
            "Context: ['من', 'وقت', 'إلى', 'العمل'], Target: الوصول\n",
            "Context: ['وقت', 'الوصول', 'العمل', 'ازدحام'], Target: إلى\n",
            "Context: ['الوصول', 'إلى', 'ازدحام', 'السيارات'], Target: العمل\n",
            "Context: ['إلى', 'العمل', 'السيارات', 'في'], Target: ازدحام\n",
            "Context: ['العمل', 'ازدحام', 'في', 'المدينة'], Target: السيارات\n",
            "Context: ['ازدحام', 'السيارات', 'المدينة', 'أصبح'], Target: في\n",
            "Context: ['السيارات', 'في', 'أصبح', 'مشكلة'], Target: المدينة\n",
            "Context: ['في', 'المدينة', 'مشكلة', 'كبيرة'], Target: أصبح\n",
            "Context: ['المدينة', 'أصبح', 'كبيرة', 'خاصة'], Target: مشكلة\n",
            "Context: ['أصبح', 'مشكلة', 'خاصة', 'خلال'], Target: كبيرة\n",
            "Context: ['مشكلة', 'كبيرة', 'خلال', 'ساعات'], Target: خاصة\n",
            "Context: ['كبيرة', 'خاصة', 'ساعات', 'الذروة'], Target: خلال\n",
            "Context: ['خاصة', 'خلال', 'الذروة', 'حيث'], Target: ساعات\n",
            "Context: ['خلال', 'ساعات', 'حيث', 'يصعب'], Target: الذروة\n",
            "Context: ['ساعات', 'الذروة', 'يصعب', 'التحرك'], Target: حيث\n",
            "Context: ['الذروة', 'حيث', 'التحرك', 'بسرعة'], Target: يصعب\n",
            "Context: ['حيث', 'يصعب', 'بسرعة', 'تفاقم'], Target: التحرك\n",
            "Context: ['يصعب', 'التحرك', 'تفاقم', 'الازدحام'], Target: بسرعة\n",
            "Context: ['التحرك', 'بسرعة', 'الازدحام', 'في'], Target: تفاقم\n",
            "Context: ['بسرعة', 'تفاقم', 'في', 'الطرق'], Target: الازدحام\n",
            "Context: ['تفاقم', 'الازدحام', 'الطرق', 'الجانبية'], Target: في\n",
            "Context: ['الازدحام', 'في', 'الجانبية', 'بسبب'], Target: الطرق\n",
            "Context: ['في', 'الطرق', 'بسبب', 'إغلاق'], Target: الجانبية\n",
            "Context: ['الطرق', 'الجانبية', 'إغلاق', 'الطريق'], Target: بسبب\n",
            "Context: ['الجانبية', 'بسبب', 'الطريق', 'الرئيسي'], Target: إغلاق\n",
            "Context: ['بسبب', 'إغلاق', 'الرئيسي', 'المؤدي'], Target: الطريق\n",
            "Context: ['إغلاق', 'الطريق', 'المؤدي', 'إلى'], Target: الرئيسي\n",
            "Context: ['الطريق', 'الرئيسي', 'إلى', 'وسط'], Target: المؤدي\n",
            "Context: ['الرئيسي', 'المؤدي', 'وسط', 'المدينة'], Target: إلى\n",
            "Context: ['المؤدي', 'إلى', 'المدينة', 'لصيانة'], Target: وسط\n",
            "Context: ['إلى', 'وسط', 'لصيانة', 'الجسر'], Target: المدينة\n",
            "Context: ['وسط', 'المدينة', 'الجسر', 'ازدحام'], Target: لصيانة\n",
            "Context: ['المدينة', 'لصيانة', 'ازدحام', 'مروري'], Target: الجسر\n",
            "Context: ['لصيانة', 'الجسر', 'مروري', 'خانق'], Target: ازدحام\n",
            "Context: ['الجسر', 'ازدحام', 'خانق', 'يواجه'], Target: مروري\n",
            "Context: ['ازدحام', 'مروري', 'يواجه', 'السكان'], Target: خانق\n",
            "Context: ['مروري', 'خانق', 'السكان', 'يوميًا'], Target: يواجه\n",
            "Context: ['خانق', 'يواجه', 'يوميًا', 'خلال'], Target: السكان\n",
            "Context: ['يواجه', 'السكان', 'خلال', 'تنقلهم'], Target: يوميًا\n",
            "Context: ['السكان', 'يوميًا', 'تنقلهم', 'من'], Target: خلال\n",
            "Context: ['يوميًا', 'خلال', 'من', 'وإلى'], Target: تنقلهم\n",
            "Context: ['خلال', 'تنقلهم', 'وإلى', 'العمل'], Target: من\n",
            "Context: ['تنقلهم', 'من', 'العمل', 'على'], Target: وإلى\n",
            "Context: ['من', 'وإلى', 'على', 'الطرق'], Target: العمل\n",
            "Context: ['وإلى', 'العمل', 'الطرق', 'السريعة'], Target: على\n",
            "Context: ['العمل', 'على', 'السريعة', 'المؤدية'], Target: الطرق\n",
            "Context: ['على', 'الطرق', 'المؤدية', 'إلى'], Target: السريعة\n",
            "Context: ['الطرق', 'السريعة', 'إلى', 'المدينة'], Target: المؤدية\n",
            "Context: ['السريعة', 'المؤدية', 'المدينة', 'التأخيرات'], Target: إلى\n",
            "Context: ['المؤدية', 'إلى', 'التأخيرات', 'المرورية'], Target: المدينة\n",
            "Context: ['إلى', 'المدينة', 'المرورية', 'اليوم'], Target: التأخيرات\n",
            "Context: ['المدينة', 'التأخيرات', 'اليوم', 'ناجمة'], Target: المرورية\n",
            "Context: ['التأخيرات', 'المرورية', 'ناجمة', 'عن'], Target: اليوم\n",
            "Context: ['المرورية', 'اليوم', 'عن', 'سوء'], Target: ناجمة\n",
            "Context: ['اليوم', 'ناجمة', 'سوء', 'الأحوال'], Target: عن\n",
            "Context: ['ناجمة', 'عن', 'الأحوال', 'الجوية'], Target: سوء\n",
            "Context: ['عن', 'سوء', 'الجوية', 'والضباب'], Target: الأحوال\n",
            "Context: ['سوء', 'الأحوال', 'والضباب', 'الذي'], Target: الجوية\n",
            "Context: ['الأحوال', 'الجوية', 'الذي', 'يعيق'], Target: والضباب\n",
            "Context: ['الجوية', 'والضباب', 'يعيق', 'الرؤية'], Target: الذي\n",
            "Context: ['والضباب', 'الذي', 'الرؤية', 'ويبطئ'], Target: يعيق\n",
            "Context: ['الذي', 'يعيق', 'ويبطئ', 'حركة'], Target: الرؤية\n",
            "Context: ['يعيق', 'الرؤية', 'حركة', 'السيارات'], Target: ويبطئ\n",
            "Context: ['الرؤية', 'ويبطئ', 'السيارات', 'حوادث'], Target: حركة\n",
            "Context: ['ويبطئ', 'حركة', 'حوادث', 'السير'], Target: السيارات\n",
            "Context: ['حركة', 'السيارات', 'السير', 'المتكررة'], Target: حوادث\n",
            "Context: ['السيارات', 'حوادث', 'المتكررة', 'على'], Target: السير\n",
            "Context: ['حوادث', 'السير', 'على', 'الطريق'], Target: المتكررة\n",
            "Context: ['السير', 'المتكررة', 'الطريق', 'الزراعي'], Target: على\n",
            "Context: ['المتكررة', 'على', 'الزراعي', 'تؤدي'], Target: الطريق\n",
            "Context: ['على', 'الطريق', 'تؤدي', 'إلى'], Target: الزراعي\n",
            "Context: ['الطريق', 'الزراعي', 'إلى', 'ازدحام'], Target: تؤدي\n",
            "Context: ['الزراعي', 'تؤدي', 'ازدحام', 'مروري'], Target: إلى\n",
            "Context: ['تؤدي', 'إلى', 'مروري', 'شديد'], Target: ازدحام\n",
            "Context: ['إلى', 'ازدحام', 'شديد', 'وتأخير'], Target: مروري\n",
            "Context: ['ازدحام', 'مروري', 'وتأخير', 'كبير'], Target: شديد\n",
            "Context: ['مروري', 'شديد', 'كبير', 'في'], Target: وتأخير\n",
            "Context: ['شديد', 'وتأخير', 'في', 'وصول'], Target: كبير\n",
            "Context: ['وتأخير', 'كبير', 'وصول', 'السيارات'], Target: في\n",
            "Context: ['كبير', 'في', 'السيارات', 'كانت'], Target: وصول\n",
            "Context: ['في', 'وصول', 'كانت', 'حركة'], Target: السيارات\n",
            "Context: ['وصول', 'السيارات', 'حركة', 'السير'], Target: كانت\n",
            "Context: ['السيارات', 'كانت', 'السير', 'اليوم'], Target: حركة\n",
            "Context: ['كانت', 'حركة', 'اليوم', 'غير'], Target: السير\n",
            "Context: ['حركة', 'السير', 'غير', 'منتظمة'], Target: اليوم\n",
            "Context: ['السير', 'اليوم', 'منتظمة', 'بسبب'], Target: غير\n",
            "Context: ['اليوم', 'غير', 'بسبب', 'تنظيم'], Target: منتظمة\n",
            "Context: ['غير', 'منتظمة', 'تنظيم', 'حدث'], Target: بسبب\n",
            "Context: ['منتظمة', 'بسبب', 'حدث', 'رياضي'], Target: تنظيم\n",
            "Context: ['بسبب', 'تنظيم', 'رياضي', 'كبير'], Target: حدث\n",
            "Context: ['تنظيم', 'حدث', 'كبير', 'أدى'], Target: رياضي\n",
            "Context: ['حدث', 'رياضي', 'أدى', 'إلى'], Target: كبير\n",
            "Context: ['رياضي', 'كبير', 'إلى', 'إغلاق'], Target: أدى\n",
            "Context: ['كبير', 'أدى', 'إغلاق', 'بعض'], Target: إلى\n",
            "Context: ['أدى', 'إلى', 'بعض', 'الشوارع'], Target: إغلاق\n",
            "Context: ['إلى', 'إغلاق', 'الشوارع', 'الرئيسية'], Target: بعض\n",
            "Context: ['إغلاق', 'بعض', 'الرئيسية', 'الأعمال'], Target: الشوارع\n",
            "Context: ['بعض', 'الشوارع', 'الأعمال', 'الإنشائية'], Target: الرئيسية\n",
            "Context: ['الشوارع', 'الرئيسية', 'الإنشائية', 'في'], Target: الأعمال\n",
            "Context: ['الرئيسية', 'الأعمال', 'في', 'الشارع'], Target: الإنشائية\n",
            "Context: ['الأعمال', 'الإنشائية', 'الشارع', 'الرئيسي'], Target: في\n",
            "Context: ['الإنشائية', 'في', 'الرئيسي', 'تسببت'], Target: الشارع\n",
            "Context: ['في', 'الشارع', 'تسببت', 'في'], Target: الرئيسي\n",
            "Context: ['الشارع', 'الرئيسي', 'في', 'اختناق'], Target: تسببت\n",
            "Context: ['الرئيسي', 'تسببت', 'اختناق', 'مروري'], Target: في\n",
            "Context: ['تسببت', 'في', 'مروري', 'كامل'], Target: اختناق\n",
            "Context: ['في', 'اختناق', 'كامل', 'وتباطؤ'], Target: مروري\n",
            "Context: ['اختناق', 'مروري', 'وتباطؤ', 'في'], Target: كامل\n",
            "Context: ['مروري', 'كامل', 'في', 'حركة'], Target: وتباطؤ\n",
            "Context: ['كامل', 'وتباطؤ', 'حركة', 'السيارات'], Target: في\n",
            "Context: ['وتباطؤ', 'في', 'السيارات', 'خلال'], Target: حركة\n",
            "Context: ['في', 'حركة', 'خلال', 'النهار'], Target: السيارات\n",
            "Context: ['حركة', 'السيارات', 'النهار', 'تراكم'], Target: خلال\n",
            "Context: ['السيارات', 'خلال', 'تراكم', 'السيارات'], Target: النهار\n",
            "Context: ['خلال', 'النهار', 'السيارات', 'عند'], Target: تراكم\n",
            "Context: ['النهار', 'تراكم', 'عند', 'تقاطع'], Target: السيارات\n",
            "Context: ['تراكم', 'السيارات', 'تقاطع', 'الطرق'], Target: عند\n",
            "Context: ['السيارات', 'عند', 'الطرق', 'الرئيسية'], Target: تقاطع\n",
            "Context: ['عند', 'تقاطع', 'الرئيسية', 'أدى'], Target: الطرق\n",
            "Context: ['تقاطع', 'الطرق', 'أدى', 'إلى'], Target: الرئيسية\n",
            "Context: ['الطرق', 'الرئيسية', 'إلى', 'ازدحام'], Target: أدى\n",
            "Context: ['الرئيسية', 'أدى', 'ازدحام', 'شديد'], Target: إلى\n",
            "Context: ['أدى', 'إلى', 'شديد', 'وزيادة'], Target: ازدحام\n",
            "Context: ['إلى', 'ازدحام', 'وزيادة', 'كبيرة'], Target: شديد\n",
            "Context: ['ازدحام', 'شديد', 'كبيرة', 'في'], Target: وزيادة\n",
            "Context: ['شديد', 'وزيادة', 'في', 'مدة'], Target: كبيرة\n",
            "Context: ['وزيادة', 'كبيرة', 'مدة', 'الانتظار'], Target: في\n",
            "Context: ['كبيرة', 'في', 'الانتظار', 'للوصول'], Target: مدة\n",
            "Context: ['في', 'مدة', 'للوصول', 'إلى'], Target: الانتظار\n",
            "Context: ['مدة', 'الانتظار', 'إلى', 'الجهة'], Target: للوصول\n",
            "Context: ['الانتظار', 'للوصول', 'الجهة', 'المطلوبة'], Target: إلى\n",
            "Context: ['للوصول', 'إلى', 'المطلوبة'], Target: الجهة\n",
            "Context: ['إلى', 'الجهة'], Target: المطلوبة\n"
          ]
        }
      ],
      "source": [
        "context_target_pairs = []\n",
        "\n",
        "for i in range(len(tokens)):\n",
        "\n",
        "    target_word = tokens[i]\n",
        "\n",
        "    # context words\n",
        "    start = max(0, i - window_size)\n",
        "    end = min(len(tokens), i + window_size + 1)\n",
        "    context_words = [tokens[j] for j in range(start, end) if j != i]\n",
        "\n",
        "    # Combine them together\n",
        "    context_target_pairs.append((context_words, target_word))\n",
        "\n",
        "# context-target pairs\n",
        "for context, target in context_target_pairs:\n",
        "    print(f\"Context: {context}, Target: {target}\")"
      ]
    },
    {
      "cell_type": "code",
      "source": [
        "# One-hot encode target words\n",
        "def one_hot_encode(target, vocab_size):\n",
        "    one_hot_vector = np.zeros(vocab_size)\n",
        "    index = word_to_index.get(target, -1)\n",
        "    if index != -1:\n",
        "        one_hot_vector[index] = 1\n",
        "    return one_hot_vector"
      ],
      "metadata": {
        "id": "JYTkkQJiOZyH"
      },
      "execution_count": 5,
      "outputs": []
    },
    {
      "cell_type": "code",
      "source": [
        "#  X and y arrays\n",
        "X = []\n",
        "y = []\n",
        "\n",
        "max_len = 0\n",
        "\n",
        "for context, target in context_target_pairs:\n",
        "    X.append([word_to_index[word] for word in context])\n",
        "    y.append(one_hot_encode(target, vocab_size))\n",
        "    max_len = max(max_len, len(context))\n",
        "\n",
        "\n",
        "# Padding context word sequences with zeros\n",
        "for i in range(len(X)):\n",
        "    X[i] = np.pad(X[i], (0, max_len - len(X[i])), 'constant')\n",
        "\n",
        "\n",
        "X = np.array(X)\n",
        "y = np.array(y)\n",
        "\n",
        "\n",
        "\n",
        "print(\"\\nX (Context Indices):\")\n",
        "print(X)\n",
        "\n",
        "print(\"\\ny (One-hot Encoded Targets):\")\n",
        "print(y)"
      ],
      "metadata": {
        "colab": {
          "base_uri": "https://localhost:8080/"
        },
        "id": "1Z5hyy8zOgI7",
        "outputId": "8fe1a71d-27dd-47f8-8dfe-716f33aa0ded"
      },
      "execution_count": 6,
      "outputs": [
        {
          "output_type": "stream",
          "name": "stdout",
          "text": [
            "\n",
            "X (Context Indices):\n",
            "[[  1   2   0   0]\n",
            " [  0   2   3   0]\n",
            " [  0   1   3   4]\n",
            " ...\n",
            " [ 40 175 176 177]\n",
            " [175  10 177   0]\n",
            " [ 10 176   0   0]]\n",
            "\n",
            "y (One-hot Encoded Targets):\n",
            "[[1. 0. 0. ... 0. 0. 0.]\n",
            " [0. 1. 0. ... 0. 0. 0.]\n",
            " [0. 0. 1. ... 0. 0. 0.]\n",
            " ...\n",
            " [0. 0. 0. ... 0. 0. 0.]\n",
            " [0. 0. 0. ... 1. 0. 0.]\n",
            " [0. 0. 0. ... 0. 1. 0.]]\n"
          ]
        }
      ]
    },
    {
      "cell_type": "markdown",
      "metadata": {
        "id": "hgxmB4fZqU1A"
      },
      "source": [
        "# Building and Training the CBOW Model"
      ]
    },
    {
      "cell_type": "markdown",
      "metadata": {
        "id": "QkXe33DgqSvD"
      },
      "source": [
        "In this step, we build and train the Continuous Bag of Words (CBOW) model using the context-target pairs created earlier.\n",
        "\n",
        "1. **Model architecture**:\n",
        "   - **Embedding layer**: This layer transforms the input context words into dense vector representations (embeddings) of size defined by `embedding_size`. The `input_dim` is set to the vocabulary size, and the `input_length` is twice the window size (since context consists of words from both sides of the target).\n",
        "   \n",
        "   - **Lambda layer**: This layer computes the mean of the context word embeddings. It averages the embeddings of the context words to generate a single representation that will be used to predict the target word.\n",
        "   \n",
        "   - **Dense layer**: This fully connected layer outputs a probability distribution over the vocabulary, using the softmax activation function. It predicts the most likely target word based on the context word embeddings.\n",
        "\n",
        "2. **Compilation**:\n",
        "   The model is compiled using the Adam optimizer and categorical cross-entropy as the loss function, which is suitable for multi-class classification tasks. Accuracy is used as a metric to evaluate the model's performance during training.\n",
        "\n",
        "3. **Training the model**:\n",
        "   The model is trained on the context-target pairs for 500 epochs. During each epoch, the model learns to predict the target word based on the context, refining its weights to improve accuracy.\n",
        "\n",
        "4. **Saving the model weights**:\n",
        "   After training, the model weights are saved to a file (`cbow_model.weights.h5`) for future use. This allows us to load the trained model later without retraining.\n",
        "\n",
        "By the end of this step, the CBOW model will have learned to predict target words based on their surrounding context from the given corpus."
      ]
    },
    {
      "cell_type": "code",
      "execution_count": 7,
      "metadata": {
        "id": "vL3UZZe3qhhh",
        "colab": {
          "base_uri": "https://localhost:8080/"
        },
        "outputId": "db7f03b7-81d1-4cf2-f33f-2691ca390885"
      },
      "outputs": [
        {
          "output_type": "stream",
          "name": "stdout",
          "text": [
            "Epoch 1/50\n"
          ]
        },
        {
          "output_type": "stream",
          "name": "stderr",
          "text": [
            "/usr/local/lib/python3.10/dist-packages/keras/src/layers/core/embedding.py:90: UserWarning: Argument `input_length` is deprecated. Just remove it.\n",
            "  warnings.warn(\n"
          ]
        },
        {
          "output_type": "stream",
          "name": "stdout",
          "text": [
            "\u001b[1m11/11\u001b[0m \u001b[32m━━━━━━━━━━━━━━━━━━━━\u001b[0m\u001b[37m\u001b[0m \u001b[1m1s\u001b[0m 5ms/step - accuracy: 0.0052 - loss: 5.1873    \n",
            "Epoch 2/50\n",
            "\u001b[1m11/11\u001b[0m \u001b[32m━━━━━━━━━━━━━━━━━━━━\u001b[0m\u001b[37m\u001b[0m \u001b[1m0s\u001b[0m 4ms/step - accuracy: 0.0355 - loss: 5.1820     \n",
            "Epoch 3/50\n",
            "\u001b[1m11/11\u001b[0m \u001b[32m━━━━━━━━━━━━━━━━━━━━\u001b[0m\u001b[37m\u001b[0m \u001b[1m0s\u001b[0m 3ms/step - accuracy: 0.0581 - loss: 5.1773 \n",
            "Epoch 4/50\n",
            "\u001b[1m11/11\u001b[0m \u001b[32m━━━━━━━━━━━━━━━━━━━━\u001b[0m\u001b[37m\u001b[0m \u001b[1m0s\u001b[0m 4ms/step - accuracy: 0.0749 - loss: 5.1727  \n",
            "Epoch 5/50\n",
            "\u001b[1m11/11\u001b[0m \u001b[32m━━━━━━━━━━━━━━━━━━━━\u001b[0m\u001b[37m\u001b[0m \u001b[1m0s\u001b[0m 4ms/step - accuracy: 0.0577 - loss: 5.1683  \n",
            "Epoch 6/50\n",
            "\u001b[1m11/11\u001b[0m \u001b[32m━━━━━━━━━━━━━━━━━━━━\u001b[0m\u001b[37m\u001b[0m \u001b[1m0s\u001b[0m 4ms/step - accuracy: 0.0745 - loss: 5.1620  \n",
            "Epoch 7/50\n",
            "\u001b[1m11/11\u001b[0m \u001b[32m━━━━━━━━━━━━━━━━━━━━\u001b[0m\u001b[37m\u001b[0m \u001b[1m0s\u001b[0m 4ms/step - accuracy: 0.0894 - loss: 5.1555 \n",
            "Epoch 8/50\n",
            "\u001b[1m11/11\u001b[0m \u001b[32m━━━━━━━━━━━━━━━━━━━━\u001b[0m\u001b[37m\u001b[0m \u001b[1m0s\u001b[0m 4ms/step - accuracy: 0.0730 - loss: 5.1522 \n",
            "Epoch 9/50\n",
            "\u001b[1m11/11\u001b[0m \u001b[32m━━━━━━━━━━━━━━━━━━━━\u001b[0m\u001b[37m\u001b[0m \u001b[1m0s\u001b[0m 4ms/step - accuracy: 0.0772 - loss: 5.1477     \n",
            "Epoch 10/50\n",
            "\u001b[1m11/11\u001b[0m \u001b[32m━━━━━━━━━━━━━━━━━━━━\u001b[0m\u001b[37m\u001b[0m \u001b[1m0s\u001b[0m 7ms/step - accuracy: 0.0757 - loss: 5.1443\n",
            "Epoch 11/50\n",
            "\u001b[1m11/11\u001b[0m \u001b[32m━━━━━━━━━━━━━━━━━━━━\u001b[0m\u001b[37m\u001b[0m \u001b[1m0s\u001b[0m 5ms/step - accuracy: 0.0698 - loss: 5.1395 \n",
            "Epoch 12/50\n",
            "\u001b[1m11/11\u001b[0m \u001b[32m━━━━━━━━━━━━━━━━━━━━\u001b[0m\u001b[37m\u001b[0m \u001b[1m0s\u001b[0m 4ms/step - accuracy: 0.0714 - loss: 5.1315 \n",
            "Epoch 13/50\n",
            "\u001b[1m11/11\u001b[0m \u001b[32m━━━━━━━━━━━━━━━━━━━━\u001b[0m\u001b[37m\u001b[0m \u001b[1m0s\u001b[0m 5ms/step - accuracy: 0.0678 - loss: 5.1212 \n",
            "Epoch 14/50\n",
            "\u001b[1m11/11\u001b[0m \u001b[32m━━━━━━━━━━━━━━━━━━━━\u001b[0m\u001b[37m\u001b[0m \u001b[1m0s\u001b[0m 4ms/step - accuracy: 0.0715 - loss: 5.1150 \n",
            "Epoch 15/50\n",
            "\u001b[1m11/11\u001b[0m \u001b[32m━━━━━━━━━━━━━━━━━━━━\u001b[0m\u001b[37m\u001b[0m \u001b[1m0s\u001b[0m 4ms/step - accuracy: 0.0912 - loss: 5.1017  \n",
            "Epoch 16/50\n",
            "\u001b[1m11/11\u001b[0m \u001b[32m━━━━━━━━━━━━━━━━━━━━\u001b[0m\u001b[37m\u001b[0m \u001b[1m0s\u001b[0m 4ms/step - accuracy: 0.0980 - loss: 5.0930  \n",
            "Epoch 17/50\n",
            "\u001b[1m11/11\u001b[0m \u001b[32m━━━━━━━━━━━━━━━━━━━━\u001b[0m\u001b[37m\u001b[0m \u001b[1m0s\u001b[0m 5ms/step - accuracy: 0.0869 - loss: 5.0913  \n",
            "Epoch 18/50\n",
            "\u001b[1m11/11\u001b[0m \u001b[32m━━━━━━━━━━━━━━━━━━━━\u001b[0m\u001b[37m\u001b[0m \u001b[1m0s\u001b[0m 4ms/step - accuracy: 0.0854 - loss: 5.0746 \n",
            "Epoch 19/50\n",
            "\u001b[1m11/11\u001b[0m \u001b[32m━━━━━━━━━━━━━━━━━━━━\u001b[0m\u001b[37m\u001b[0m \u001b[1m0s\u001b[0m 5ms/step - accuracy: 0.0734 - loss: 5.0685 \n",
            "Epoch 20/50\n",
            "\u001b[1m11/11\u001b[0m \u001b[32m━━━━━━━━━━━━━━━━━━━━\u001b[0m\u001b[37m\u001b[0m \u001b[1m0s\u001b[0m 3ms/step - accuracy: 0.0792 - loss: 5.0539 \n",
            "Epoch 21/50\n",
            "\u001b[1m11/11\u001b[0m \u001b[32m━━━━━━━━━━━━━━━━━━━━\u001b[0m\u001b[37m\u001b[0m \u001b[1m0s\u001b[0m 2ms/step - accuracy: 0.0811 - loss: 5.0420 \n",
            "Epoch 22/50\n",
            "\u001b[1m11/11\u001b[0m \u001b[32m━━━━━━━━━━━━━━━━━━━━\u001b[0m\u001b[37m\u001b[0m \u001b[1m0s\u001b[0m 2ms/step - accuracy: 0.0909 - loss: 5.0224 \n",
            "Epoch 23/50\n",
            "\u001b[1m11/11\u001b[0m \u001b[32m━━━━━━━━━━━━━━━━━━━━\u001b[0m\u001b[37m\u001b[0m \u001b[1m0s\u001b[0m 2ms/step - accuracy: 0.0930 - loss: 5.0058 \n",
            "Epoch 24/50\n",
            "\u001b[1m11/11\u001b[0m \u001b[32m━━━━━━━━━━━━━━━━━━━━\u001b[0m\u001b[37m\u001b[0m \u001b[1m0s\u001b[0m 2ms/step - accuracy: 0.0992 - loss: 4.9942 \n",
            "Epoch 25/50\n",
            "\u001b[1m11/11\u001b[0m \u001b[32m━━━━━━━━━━━━━━━━━━━━\u001b[0m\u001b[37m\u001b[0m \u001b[1m0s\u001b[0m 3ms/step - accuracy: 0.1005 - loss: 4.9769 \n",
            "Epoch 26/50\n",
            "\u001b[1m11/11\u001b[0m \u001b[32m━━━━━━━━━━━━━━━━━━━━\u001b[0m\u001b[37m\u001b[0m \u001b[1m0s\u001b[0m 2ms/step - accuracy: 0.1179 - loss: 4.9601 \n",
            "Epoch 27/50\n",
            "\u001b[1m11/11\u001b[0m \u001b[32m━━━━━━━━━━━━━━━━━━━━\u001b[0m\u001b[37m\u001b[0m \u001b[1m0s\u001b[0m 2ms/step - accuracy: 0.1014 - loss: 4.9459 \n",
            "Epoch 28/50\n",
            "\u001b[1m11/11\u001b[0m \u001b[32m━━━━━━━━━━━━━━━━━━━━\u001b[0m\u001b[37m\u001b[0m \u001b[1m0s\u001b[0m 3ms/step - accuracy: 0.1021 - loss: 4.9300 \n",
            "Epoch 29/50\n",
            "\u001b[1m11/11\u001b[0m \u001b[32m━━━━━━━━━━━━━━━━━━━━\u001b[0m\u001b[37m\u001b[0m \u001b[1m0s\u001b[0m 3ms/step - accuracy: 0.0989 - loss: 4.9064  \n",
            "Epoch 30/50\n",
            "\u001b[1m11/11\u001b[0m \u001b[32m━━━━━━━━━━━━━━━━━━━━\u001b[0m\u001b[37m\u001b[0m \u001b[1m0s\u001b[0m 3ms/step - accuracy: 0.0945 - loss: 4.8970 \n",
            "Epoch 31/50\n",
            "\u001b[1m11/11\u001b[0m \u001b[32m━━━━━━━━━━━━━━━━━━━━\u001b[0m\u001b[37m\u001b[0m \u001b[1m0s\u001b[0m 2ms/step - accuracy: 0.1081 - loss: 4.8716  \n",
            "Epoch 32/50\n",
            "\u001b[1m11/11\u001b[0m \u001b[32m━━━━━━━━━━━━━━━━━━━━\u001b[0m\u001b[37m\u001b[0m \u001b[1m0s\u001b[0m 2ms/step - accuracy: 0.1270 - loss: 4.8594 \n",
            "Epoch 33/50\n",
            "\u001b[1m11/11\u001b[0m \u001b[32m━━━━━━━━━━━━━━━━━━━━\u001b[0m\u001b[37m\u001b[0m \u001b[1m0s\u001b[0m 2ms/step - accuracy: 0.1251 - loss: 4.8392 \n",
            "Epoch 34/50\n",
            "\u001b[1m11/11\u001b[0m \u001b[32m━━━━━━━━━━━━━━━━━━━━\u001b[0m\u001b[37m\u001b[0m \u001b[1m0s\u001b[0m 2ms/step - accuracy: 0.1090 - loss: 4.8365 \n",
            "Epoch 35/50\n",
            "\u001b[1m11/11\u001b[0m \u001b[32m━━━━━━━━━━━━━━━━━━━━\u001b[0m\u001b[37m\u001b[0m \u001b[1m0s\u001b[0m 2ms/step - accuracy: 0.1240 - loss: 4.7949 \n",
            "Epoch 36/50\n",
            "\u001b[1m11/11\u001b[0m \u001b[32m━━━━━━━━━━━━━━━━━━━━\u001b[0m\u001b[37m\u001b[0m \u001b[1m0s\u001b[0m 3ms/step - accuracy: 0.1406 - loss: 4.7807 \n",
            "Epoch 37/50\n",
            "\u001b[1m11/11\u001b[0m \u001b[32m━━━━━━━━━━━━━━━━━━━━\u001b[0m\u001b[37m\u001b[0m \u001b[1m0s\u001b[0m 3ms/step - accuracy: 0.1220 - loss: 4.7518 \n",
            "Epoch 38/50\n",
            "\u001b[1m11/11\u001b[0m \u001b[32m━━━━━━━━━━━━━━━━━━━━\u001b[0m\u001b[37m\u001b[0m \u001b[1m0s\u001b[0m 2ms/step - accuracy: 0.1142 - loss: 4.7071 \n",
            "Epoch 39/50\n",
            "\u001b[1m11/11\u001b[0m \u001b[32m━━━━━━━━━━━━━━━━━━━━\u001b[0m\u001b[37m\u001b[0m \u001b[1m0s\u001b[0m 2ms/step - accuracy: 0.0894 - loss: 4.7404     \n",
            "Epoch 40/50\n",
            "\u001b[1m11/11\u001b[0m \u001b[32m━━━━━━━━━━━━━━━━━━━━\u001b[0m\u001b[37m\u001b[0m \u001b[1m0s\u001b[0m 2ms/step - accuracy: 0.1024 - loss: 4.6841 \n",
            "Epoch 41/50\n",
            "\u001b[1m11/11\u001b[0m \u001b[32m━━━━━━━━━━━━━━━━━━━━\u001b[0m\u001b[37m\u001b[0m \u001b[1m0s\u001b[0m 2ms/step - accuracy: 0.1394 - loss: 4.6430 \n",
            "Epoch 42/50\n",
            "\u001b[1m11/11\u001b[0m \u001b[32m━━━━━━━━━━━━━━━━━━━━\u001b[0m\u001b[37m\u001b[0m \u001b[1m0s\u001b[0m 3ms/step - accuracy: 0.1135 - loss: 4.6708 \n",
            "Epoch 43/50\n",
            "\u001b[1m11/11\u001b[0m \u001b[32m━━━━━━━━━━━━━━━━━━━━\u001b[0m\u001b[37m\u001b[0m \u001b[1m0s\u001b[0m 4ms/step - accuracy: 0.1368 - loss: 4.6257 \n",
            "Epoch 44/50\n",
            "\u001b[1m11/11\u001b[0m \u001b[32m━━━━━━━━━━━━━━━━━━━━\u001b[0m\u001b[37m\u001b[0m \u001b[1m0s\u001b[0m 2ms/step - accuracy: 0.1091 - loss: 4.6176 \n",
            "Epoch 45/50\n",
            "\u001b[1m11/11\u001b[0m \u001b[32m━━━━━━━━━━━━━━━━━━━━\u001b[0m\u001b[37m\u001b[0m \u001b[1m0s\u001b[0m 2ms/step - accuracy: 0.1444 - loss: 4.5460 \n",
            "Epoch 46/50\n",
            "\u001b[1m11/11\u001b[0m \u001b[32m━━━━━━━━━━━━━━━━━━━━\u001b[0m\u001b[37m\u001b[0m \u001b[1m0s\u001b[0m 4ms/step - accuracy: 0.1088 - loss: 4.5427 \n",
            "Epoch 47/50\n",
            "\u001b[1m11/11\u001b[0m \u001b[32m━━━━━━━━━━━━━━━━━━━━\u001b[0m\u001b[37m\u001b[0m \u001b[1m0s\u001b[0m 2ms/step - accuracy: 0.1204 - loss: 4.5501 \n",
            "Epoch 48/50\n",
            "\u001b[1m11/11\u001b[0m \u001b[32m━━━━━━━━━━━━━━━━━━━━\u001b[0m\u001b[37m\u001b[0m \u001b[1m0s\u001b[0m 3ms/step - accuracy: 0.1361 - loss: 4.5030 \n",
            "Epoch 49/50\n",
            "\u001b[1m11/11\u001b[0m \u001b[32m━━━━━━━━━━━━━━━━━━━━\u001b[0m\u001b[37m\u001b[0m \u001b[1m0s\u001b[0m 2ms/step - accuracy: 0.1283 - loss: 4.5196  \n",
            "Epoch 50/50\n",
            "\u001b[1m11/11\u001b[0m \u001b[32m━━━━━━━━━━━━━━━━━━━━\u001b[0m\u001b[37m\u001b[0m \u001b[1m0s\u001b[0m 2ms/step - accuracy: 0.1295 - loss: 4.4687 \n"
          ]
        }
      ],
      "source": [
        "from tensorflow.keras.models import Sequential\n",
        "from tensorflow.keras.layers import Embedding, Dense, Lambda\n",
        "from tensorflow.keras.optimizers import Adam\n",
        "from tensorflow.keras import backend as K\n",
        "\n",
        "# Build CBOW model\n",
        "model = Sequential()\n",
        "model.add(Embedding(input_dim=vocab_size, output_dim=embedding_size, input_length=window_size * 2))\n",
        "model.add(Lambda(lambda x: K.mean(x, axis=1)))\n",
        "model.add(Dense(vocab_size, activation='softmax'))\n",
        "\n",
        "\n",
        "\n",
        "model.compile(optimizer=Adam(), loss='categorical_crossentropy', metrics=['accuracy'])\n",
        "\n",
        "# Train the model\n",
        "model.fit(X, y, epochs=50, verbose=1)\n",
        "\n",
        "# Save\n",
        "model.save_weights('cbow_model.weights.h5')"
      ]
    },
    {
      "cell_type": "markdown",
      "metadata": {
        "id": "mLodiHWkqaL4"
      },
      "source": [
        "# Predicting a Word Using the Trained CBOW Model"
      ]
    },
    {
      "cell_type": "markdown",
      "metadata": {
        "id": "_SRP_chYqYKS"
      },
      "source": [
        "In this step, we define a function to predict a word based on a given context using the trained CBOW model.\n",
        "\n",
        "1. **Function: `predict_word`**:\n",
        "   - **Input**: The function takes a list of context words as input. The number of context words should match the expected size (2 times the window size).\n",
        "   - **Context sequence conversion**: The input context words are tokenized into a sequence of integers using the same tokenizer that was used during training.\n",
        "   - **Input validation**: The function checks whether the length of the context sequence matches the expected size (2 times the window size). If not, it prints an error message.\n",
        "   - **Prediction**: The tokenized context is fed into the trained CBOW model, which predicts the probability distribution over the vocabulary.\n",
        "   - **Retrieve predicted word**: The predicted word is the one with the highest probability. The function retrieves the word corresponding to the predicted index from the tokenizer's word index.\n",
        "\n",
        "2. **Example**:\n",
        "   - We provide a sample context: `['الحادث', 'بسبب', 'مزدحم', 'الطريق']`.\n",
        "   - The function predicts the word that fits best in this context, based on the model's learned weights.\n",
        "   - The predicted word is printed along with the input context.\n",
        "\n",
        "This function allows us to test the CBOW model by predicting words based on their surrounding context from the corpus."
      ]
    },
    {
      "cell_type": "code",
      "execution_count": 8,
      "metadata": {
        "id": "ykhSWJY0qgCI"
      },
      "outputs": [],
      "source": [
        "def predict_word(context_words, model, word_to_index, index_to_word, window_size):\n",
        "\n",
        "    expected_size = window_size * 2\n",
        "    if len(context_words) != expected_size:\n",
        "        print(f\"Error: Expected {expected_size} context words, but got {len(context_words)}.\")\n",
        "        return None\n",
        "\n",
        "    # Convert\n",
        "    context_indices = [word_to_index.get(word, -1) for word in context_words]\n",
        "\n",
        "    # Check i words that were not in the vocabb\n",
        "    if any(index == -1 for index in context_indices):\n",
        "        print(\"Error: One or more context words are not in the vocabulary.\")\n",
        "        return None\n",
        "\n",
        "    # Reshape the input to match the model's input shape\n",
        "    context_array = np.array(context_indices).reshape(1, -1)\n",
        "    predicted_probs = model.predict(context_array)\n",
        "\n",
        "\n",
        "    predicted_index = np.argmax(predicted_probs)\n",
        "\n",
        "    predicted_word = index_to_word.get(predicted_index, None)\n",
        "\n",
        "    return predicted_word"
      ]
    },
    {
      "cell_type": "code",
      "source": [
        "# index-to-word mapping\n",
        "index_to_word = {i: word for word, i in word_to_index.items()}\n",
        "\n",
        "sample_context = ['الحادث', 'بسبب', 'مزدحم', 'الطريق']\n",
        "\n",
        "# Predict word\n",
        "predicted_word = predict_word(sample_context, model, word_to_index, index_to_word, window_size)\n",
        "\n",
        "# result\n",
        "if predicted_word:\n",
        "    print(f\"Input Context: {sample_context}\")\n",
        "    print(f\"Predicted Word: {predicted_word}\")"
      ],
      "metadata": {
        "colab": {
          "base_uri": "https://localhost:8080/"
        },
        "id": "IF9jX9OKOtD-",
        "outputId": "bc18707d-e11b-4689-fecb-d628ba55903a"
      },
      "execution_count": 9,
      "outputs": [
        {
          "output_type": "stream",
          "name": "stdout",
          "text": [
            "\u001b[1m1/1\u001b[0m \u001b[32m━━━━━━━━━━━━━━━━━━━━\u001b[0m\u001b[37m\u001b[0m \u001b[1m0s\u001b[0m 92ms/step\n",
            "Input Context: ['الحادث', 'بسبب', 'مزدحم', 'الطريق']\n",
            "Predicted Word: في\n"
          ]
        }
      ]
    }
  ],
  "metadata": {
    "colab": {
      "provenance": []
    },
    "kernelspec": {
      "display_name": "Python 3",
      "name": "python3"
    },
    "language_info": {
      "name": "python"
    }
  },
  "nbformat": 4,
  "nbformat_minor": 0
}